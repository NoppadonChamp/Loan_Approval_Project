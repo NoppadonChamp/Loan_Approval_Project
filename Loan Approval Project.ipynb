{
 "cells": [
  {
   "cell_type": "markdown",
   "id": "98c78688",
   "metadata": {},
   "source": [
    "# การอนุมัติให้สินเชื่อ (Loan Approval)\n",
    "  \n",
    "* แต่ก่อนการจะอนุมัติให้สินเชื่อจำเป็นต้องใช้นักวิเคราะห์หรือผู้เชี่ยวชาญทางด้านการเงินมาวิเคราะห์ปัจจัยต่างๆ แล้วอนุมัติการให้สินเชื่อกับผู้ขอสินเชื่อ ผลลัพธ์ที่เกิดขึ้นจะเกิดปัญหาหลักๆ คือ โอกาสที่ผู้ขอสินเชื่อไม่มีความสามารถในการจ่ายสินเชื่อคืนสูง ซึ่งเกิดจากการตัดสินใจของมนุษย์ที่มีประสบการณ์และความสามารถที่แตกต่างกันมาตัดสินใจในการให้สินเชื่อ  \n",
    "  \n",
    "  \n",
    "* ในปัจจุบันสามารถที่จะใช้ Machine learning หรือ ระบบคอมพิวเตอร์ที่เรียนรู้ได้ด้วยตนเอง มาตัดสินใจในการให้สินเชื่อได้ โดยเรียนรู้จากข้อมูลจากปัจจัยต่างๆที่เกี่ยวข้องกับผู้ขอสินเชื่อและผลลัพธ์ คือ ตัวแปรตามที่ธนาคารเลือกที่จะอนุมัติหรือไม่อนุมัติ ที่ผ่านมา นำมาสร้างเป็นโมเดลในการตัดสินใจให้สินเชื่อให้กับผู้ขอสินเชื่อได้ โดยมีรายละเอียดขั้นตอนการทำงานดังนี้\n",
    "_______________________________________________________________________________"
   ]
  },
  {
   "cell_type": "markdown",
   "id": "5f058e14",
   "metadata": {},
   "source": [
    "# เนื้อหา\n",
    "### * [1. ทำความเข้าใจธุรกิจและเป้าหมาย](#1.-ทำความเข้าใจธุรกิจและเป้าหมาย)\n",
    "### * [2. ทำความเข้าใจข้อมูล](#2.-ทำความเข้าใจข้อมูล)\n",
    "### * [3. เตรียมพร้อมข้อมูล](#3.-เตรียมพร้อมข้อมูล)\n",
    "### * [4. สร้างโมเดลทำนายการอนุมัติสินเชื่อ](#4.-สร้างโมเดลทำนายการอนุมัติสินเชื่อ)\n",
    "### * [5. ประเมินผลลัพธ์จากการทำนายสินเชื่อ และ หาปัจจัยที่สำคัญ](#5.-ประเมินผลลัพธ์จากการทำนายสินเชื่อ-และ-หาปัจจัยที่สำคัญ)\n",
    "### * [6. การนำไปใช้จริงและสรุปผลตามเป้าหมาย](#6.-การนำไปใช้จริงและสรุปผลตามเป้าหมาย)\n",
    "_______________________________________________________________________________"
   ]
  },
  {
   "cell_type": "markdown",
   "id": "9f1e7fb7",
   "metadata": {},
   "source": [
    "## 1. ทำความเข้าใจธุรกิจและเป้าหมาย\n",
    "ลักษณะธุรกิจเป็น ธุรกิจการเงินในรูปแบบธนาคาร ที่ต้องการเพิ่มรายได้ในการให้สินเชื่อให้มีประสิทธิภาพมากขึ้น โดยการให้สินเชื่อให้ตรงกับกลุ่มเป้าหมายที่มีความสามารถในการจ่ายสินเชื่อได้ครบและตรงเวลา\n",
    "#### ปัญหา \n",
    "1. การอนุมัติสินเชื่อไม่ตรงกับกลุ่มเป้าหมายที่มีความสามารถในการจ่ายสินเชื่อได้\n",
    "2. จะรู้ได้อย่างไรว่ากลุ่มเป้าหมายคือใคร\n",
    "3. จะมีแนวทางในการประเมินสินเชื่อได้อย่างไร \n",
    "  \n",
    "#### เป้าหมายทางธุรกิจ\n",
    "1. ต้องการอนุมัติสินเชื่อให้ตรงกับกลุ่มเป้าหมายที่มีความสามารถในการจ่ายสินเชื่อ\n",
    "2. ต้องการรู้ว่ากลุ่มเป้าหมายคือใคร\n",
    "3. ต้องการสร้างแนวทางในการประเมินสินเชื่อ  \n",
    "  \n",
    "#### เป้าหมายทางวิทยาศาสตร์ข้อมูล\n",
    "1. สร้างโมเดลหรืออัลกอลิทึมในการอนุมัติสินเชื่อได้อย่างอัตโนมัติ\n",
    "2. ค้นหาปัจจัยสำคัญที่ส่งผลต่อการอนุมัติสินเชื่อ เพื่อหาคุณลักษณะที่สำคัญของกลุ่มเป้าหมาย"
   ]
  },
  {
   "cell_type": "markdown",
   "id": "ec9ae846",
   "metadata": {},
   "source": [
    "## 2. ทำความเข้าใจข้อมูล\n",
    "ข้อมูลที่ใช้นำมาจาก [Analyticx Vidhya](https://datahack.analyticsvidhya.com/contest/practice-problem-loan-prediction-iii/) เป็นเว็บไซด์ที่สอนการวิเคราะห์ข้อมูลและมีข้อมูลกรณีศึกษามาให้ลองปฎิบัติ ทดลองการทำโปรเจคทางด้าน datascience \n",
    "  \n",
    "กลับมาที่ Datasetของเราประกอบด้วย ตัวแปรหรือปัจจัยต่างๆ ดังนี้   \n",
    "\n",
    "1) Gender (เพศ) ชาย/หญิง     \n",
    "2) Married (การแต่งงาน) แต่งงาน/ไม่แต่งงาน  \n",
    "3) Dependents (ผู้อยู่ในอุปการะ) หน่วย: คน   \n",
    "4) Education (ระดับการศึกษา) จบปริญญา/ไม่จบปริญญา        \n",
    "5) Self_Employed (เป็นนายตัวเอง) เป็นนายตัวเอง/ไม่เป็นนายตัวเอง\t     \n",
    "6) ApplicantIncome (รายได้หลักต่อเดือน) หน่วย: ดอลล่าร์    \n",
    "7) CoapplicantIncome(รายได้เสริมต่อเดือน) หน่วย: ดอลล่าร์\t  \n",
    "8) LoanAmount (จำนวนสินเชื่อ) หน่วย: พันดอลล่าร์\t  \n",
    "9) Loan_Amount_Term (เวลาคืนสินเชื่อ) หน่วย: เดือน\t  \n",
    "10) Credit_History (ประวัติเครดิตตรงตามเกณฑ์)   \n",
    "11) Property_Area (พื้นที่อยู่อาศัย) ในเมือง/ชานเมือง/ชนบท  \n",
    "12) Loan_Status (การอนุมัติสินเชื่อ) อนุมัติ/ไม่อนุมัติ    \n",
    "   \n",
    "\n",
    "\n",
    "### Exploratory Data Analysis\n",
    "เมื่อทราบถึงรายละเอียดของตัวแปรแล้ว ต่อไปเป็นการสำรวจข้อมูลเพื่อทำความเข้าใจข้อมูลเบื้องต้น \n",
    "Exploratory Data Analysis หรือ EDA คือกระบวนการตรวจสอบ สำรวจข้อมูลเบื้องต้น ตรวจสอบสมมติฐานเบื้องต้น ตรวจสอบความผิดพลาดของชุดข้อมูล ก่อนนำไปวิเคราะห์ข้อมูลอย่างละเอียดหรือสร้างแบบจำลองทางสถิติ (Statistical Modeling)"
   ]
  },
  {
   "cell_type": "markdown",
   "id": "871e4432",
   "metadata": {},
   "source": [
    "### 1) ดูรายละเอียดของข้อมูล\n",
    "โดย import library ที่สำคัญในการจัดการข้อมูล(pandas) เพื่อดูรายละเอียด และ ตรวจสอบความผิดพลาดของข้อมูล"
   ]
  },
  {
   "cell_type": "code",
   "execution_count": 2,
   "id": "8eeafa36",
   "metadata": {},
   "outputs": [],
   "source": [
    "import pandas as pd\n",
    "import numpy as np\n",
    "import matplotlib.pyplot as plt\n",
    "import seaborn as sns\n",
    "%matplotlib inline"
   ]
  },
  {
   "cell_type": "code",
   "execution_count": 3,
   "id": "c99b7ba4",
   "metadata": {
    "scrolled": false
   },
   "outputs": [
    {
     "data": {
      "text/html": [
       "<div>\n",
       "<style scoped>\n",
       "    .dataframe tbody tr th:only-of-type {\n",
       "        vertical-align: middle;\n",
       "    }\n",
       "\n",
       "    .dataframe tbody tr th {\n",
       "        vertical-align: top;\n",
       "    }\n",
       "\n",
       "    .dataframe thead th {\n",
       "        text-align: right;\n",
       "    }\n",
       "</style>\n",
       "<table border=\"1\" class=\"dataframe\">\n",
       "  <thead>\n",
       "    <tr style=\"text-align: right;\">\n",
       "      <th></th>\n",
       "      <th>Gender</th>\n",
       "      <th>Married</th>\n",
       "      <th>Dependents</th>\n",
       "      <th>Education</th>\n",
       "      <th>Self_Employed</th>\n",
       "      <th>ApplicantIncome</th>\n",
       "      <th>CoapplicantIncome</th>\n",
       "      <th>LoanAmount</th>\n",
       "      <th>Loan_Amount_Term</th>\n",
       "      <th>Credit_History</th>\n",
       "      <th>Property_Area</th>\n",
       "      <th>Loan_Status</th>\n",
       "    </tr>\n",
       "    <tr>\n",
       "      <th>Loan_ID</th>\n",
       "      <th></th>\n",
       "      <th></th>\n",
       "      <th></th>\n",
       "      <th></th>\n",
       "      <th></th>\n",
       "      <th></th>\n",
       "      <th></th>\n",
       "      <th></th>\n",
       "      <th></th>\n",
       "      <th></th>\n",
       "      <th></th>\n",
       "      <th></th>\n",
       "    </tr>\n",
       "  </thead>\n",
       "  <tbody>\n",
       "    <tr>\n",
       "      <th>LP001002</th>\n",
       "      <td>Male</td>\n",
       "      <td>No</td>\n",
       "      <td>0</td>\n",
       "      <td>Graduate</td>\n",
       "      <td>No</td>\n",
       "      <td>5849</td>\n",
       "      <td>0.0</td>\n",
       "      <td>NaN</td>\n",
       "      <td>360.0</td>\n",
       "      <td>1.0</td>\n",
       "      <td>Urban</td>\n",
       "      <td>Y</td>\n",
       "    </tr>\n",
       "    <tr>\n",
       "      <th>LP001003</th>\n",
       "      <td>Male</td>\n",
       "      <td>Yes</td>\n",
       "      <td>1</td>\n",
       "      <td>Graduate</td>\n",
       "      <td>No</td>\n",
       "      <td>4583</td>\n",
       "      <td>1508.0</td>\n",
       "      <td>128.0</td>\n",
       "      <td>360.0</td>\n",
       "      <td>1.0</td>\n",
       "      <td>Rural</td>\n",
       "      <td>N</td>\n",
       "    </tr>\n",
       "    <tr>\n",
       "      <th>LP001005</th>\n",
       "      <td>Male</td>\n",
       "      <td>Yes</td>\n",
       "      <td>0</td>\n",
       "      <td>Graduate</td>\n",
       "      <td>Yes</td>\n",
       "      <td>3000</td>\n",
       "      <td>0.0</td>\n",
       "      <td>66.0</td>\n",
       "      <td>360.0</td>\n",
       "      <td>1.0</td>\n",
       "      <td>Urban</td>\n",
       "      <td>Y</td>\n",
       "    </tr>\n",
       "    <tr>\n",
       "      <th>LP001006</th>\n",
       "      <td>Male</td>\n",
       "      <td>Yes</td>\n",
       "      <td>0</td>\n",
       "      <td>Not Graduate</td>\n",
       "      <td>No</td>\n",
       "      <td>2583</td>\n",
       "      <td>2358.0</td>\n",
       "      <td>120.0</td>\n",
       "      <td>360.0</td>\n",
       "      <td>1.0</td>\n",
       "      <td>Urban</td>\n",
       "      <td>Y</td>\n",
       "    </tr>\n",
       "    <tr>\n",
       "      <th>LP001008</th>\n",
       "      <td>Male</td>\n",
       "      <td>No</td>\n",
       "      <td>0</td>\n",
       "      <td>Graduate</td>\n",
       "      <td>No</td>\n",
       "      <td>6000</td>\n",
       "      <td>0.0</td>\n",
       "      <td>141.0</td>\n",
       "      <td>360.0</td>\n",
       "      <td>1.0</td>\n",
       "      <td>Urban</td>\n",
       "      <td>Y</td>\n",
       "    </tr>\n",
       "    <tr>\n",
       "      <th>LP001011</th>\n",
       "      <td>Male</td>\n",
       "      <td>Yes</td>\n",
       "      <td>2</td>\n",
       "      <td>Graduate</td>\n",
       "      <td>Yes</td>\n",
       "      <td>5417</td>\n",
       "      <td>4196.0</td>\n",
       "      <td>267.0</td>\n",
       "      <td>360.0</td>\n",
       "      <td>1.0</td>\n",
       "      <td>Urban</td>\n",
       "      <td>Y</td>\n",
       "    </tr>\n",
       "    <tr>\n",
       "      <th>LP001013</th>\n",
       "      <td>Male</td>\n",
       "      <td>Yes</td>\n",
       "      <td>0</td>\n",
       "      <td>Not Graduate</td>\n",
       "      <td>No</td>\n",
       "      <td>2333</td>\n",
       "      <td>1516.0</td>\n",
       "      <td>95.0</td>\n",
       "      <td>360.0</td>\n",
       "      <td>1.0</td>\n",
       "      <td>Urban</td>\n",
       "      <td>Y</td>\n",
       "    </tr>\n",
       "    <tr>\n",
       "      <th>LP001014</th>\n",
       "      <td>Male</td>\n",
       "      <td>Yes</td>\n",
       "      <td>3+</td>\n",
       "      <td>Graduate</td>\n",
       "      <td>No</td>\n",
       "      <td>3036</td>\n",
       "      <td>2504.0</td>\n",
       "      <td>158.0</td>\n",
       "      <td>360.0</td>\n",
       "      <td>0.0</td>\n",
       "      <td>Semiurban</td>\n",
       "      <td>N</td>\n",
       "    </tr>\n",
       "    <tr>\n",
       "      <th>LP001018</th>\n",
       "      <td>Male</td>\n",
       "      <td>Yes</td>\n",
       "      <td>2</td>\n",
       "      <td>Graduate</td>\n",
       "      <td>No</td>\n",
       "      <td>4006</td>\n",
       "      <td>1526.0</td>\n",
       "      <td>168.0</td>\n",
       "      <td>360.0</td>\n",
       "      <td>1.0</td>\n",
       "      <td>Urban</td>\n",
       "      <td>Y</td>\n",
       "    </tr>\n",
       "    <tr>\n",
       "      <th>LP001020</th>\n",
       "      <td>Male</td>\n",
       "      <td>Yes</td>\n",
       "      <td>1</td>\n",
       "      <td>Graduate</td>\n",
       "      <td>No</td>\n",
       "      <td>12841</td>\n",
       "      <td>10968.0</td>\n",
       "      <td>349.0</td>\n",
       "      <td>360.0</td>\n",
       "      <td>1.0</td>\n",
       "      <td>Semiurban</td>\n",
       "      <td>N</td>\n",
       "    </tr>\n",
       "  </tbody>\n",
       "</table>\n",
       "</div>"
      ],
      "text/plain": [
       "         Gender Married Dependents     Education Self_Employed  \\\n",
       "Loan_ID                                                          \n",
       "LP001002   Male      No          0      Graduate            No   \n",
       "LP001003   Male     Yes          1      Graduate            No   \n",
       "LP001005   Male     Yes          0      Graduate           Yes   \n",
       "LP001006   Male     Yes          0  Not Graduate            No   \n",
       "LP001008   Male      No          0      Graduate            No   \n",
       "LP001011   Male     Yes          2      Graduate           Yes   \n",
       "LP001013   Male     Yes          0  Not Graduate            No   \n",
       "LP001014   Male     Yes         3+      Graduate            No   \n",
       "LP001018   Male     Yes          2      Graduate            No   \n",
       "LP001020   Male     Yes          1      Graduate            No   \n",
       "\n",
       "          ApplicantIncome  CoapplicantIncome  LoanAmount  Loan_Amount_Term  \\\n",
       "Loan_ID                                                                      \n",
       "LP001002             5849                0.0         NaN             360.0   \n",
       "LP001003             4583             1508.0       128.0             360.0   \n",
       "LP001005             3000                0.0        66.0             360.0   \n",
       "LP001006             2583             2358.0       120.0             360.0   \n",
       "LP001008             6000                0.0       141.0             360.0   \n",
       "LP001011             5417             4196.0       267.0             360.0   \n",
       "LP001013             2333             1516.0        95.0             360.0   \n",
       "LP001014             3036             2504.0       158.0             360.0   \n",
       "LP001018             4006             1526.0       168.0             360.0   \n",
       "LP001020            12841            10968.0       349.0             360.0   \n",
       "\n",
       "          Credit_History Property_Area Loan_Status  \n",
       "Loan_ID                                             \n",
       "LP001002             1.0         Urban           Y  \n",
       "LP001003             1.0         Rural           N  \n",
       "LP001005             1.0         Urban           Y  \n",
       "LP001006             1.0         Urban           Y  \n",
       "LP001008             1.0         Urban           Y  \n",
       "LP001011             1.0         Urban           Y  \n",
       "LP001013             1.0         Urban           Y  \n",
       "LP001014             0.0     Semiurban           N  \n",
       "LP001018             1.0         Urban           Y  \n",
       "LP001020             1.0     Semiurban           N  "
      ]
     },
     "metadata": {},
     "output_type": "display_data"
    },
    {
     "name": "stdout",
     "output_type": "stream",
     "text": [
      "(614, 12)\n"
     ]
    }
   ],
   "source": [
    "#นำเข้า datasetของการอนุมัติสินเชื่อ และ ดูข้อมูล\n",
    "loan = pd.read_csv('loan approval data.csv', index_col=0)\n",
    "display(loan.head(10))\n",
    "\n",
    "#ดูจำนวนข้อมูลและตัวแปร\n",
    "print(loan.shape)"
   ]
  },
  {
   "cell_type": "markdown",
   "id": "4ba1708a",
   "metadata": {},
   "source": [
    "ข้อมูลมีทั้งหมด 614 รายการตามแนวrows และ มีตัวแปรทั้งหมด 12 ตัวแปรตามแนวcolumns ทั้งรูปแบบnumeric variables และcategorical variables โดยตัวแปรLoan_Status เป็น target variableหรือตัวแปรตามในการให้อนุมัติสินเชื่อ   "
   ]
  },
  {
   "cell_type": "code",
   "execution_count": 4,
   "id": "995bcc70",
   "metadata": {},
   "outputs": [
    {
     "name": "stdout",
     "output_type": "stream",
     "text": [
      "<class 'pandas.core.frame.DataFrame'>\n",
      "Index: 614 entries, LP001002 to LP002990\n",
      "Data columns (total 12 columns):\n",
      " #   Column             Non-Null Count  Dtype  \n",
      "---  ------             --------------  -----  \n",
      " 0   Gender             601 non-null    object \n",
      " 1   Married            611 non-null    object \n",
      " 2   Dependents         599 non-null    object \n",
      " 3   Education          614 non-null    object \n",
      " 4   Self_Employed      582 non-null    object \n",
      " 5   ApplicantIncome    614 non-null    int64  \n",
      " 6   CoapplicantIncome  614 non-null    float64\n",
      " 7   LoanAmount         592 non-null    float64\n",
      " 8   Loan_Amount_Term   600 non-null    float64\n",
      " 9   Credit_History     564 non-null    float64\n",
      " 10  Property_Area      614 non-null    object \n",
      " 11  Loan_Status        614 non-null    object \n",
      "dtypes: float64(4), int64(1), object(7)\n",
      "memory usage: 62.4+ KB\n"
     ]
    }
   ],
   "source": [
    "#ดูรายละเอียดของข้อมูลแต่ละตัวแปร\n",
    "loan.info()"
   ]
  },
  {
   "cell_type": "markdown",
   "id": "238d171c",
   "metadata": {},
   "source": [
    "พบว่าบางตัวแปรมีข้อมูลที่ขาดหายไป(missing value) คือ ตัวแปรGender, Married, Dependents, Self_Employed, LoanAmount, Loan_Amount_Term, Credit_History ซึ่งหากปล่อยไว้จะทำให้ความแปรปรวนสูงขึ้นได้แล้วมีผลต่อการทำนายสินเชื่อเกิดความคลาดเคลื่อนสูงตามมา ดังนั้น ต้องทำการclean data เพื่อกำจัดปัญหานี้ในขั้นตอนที่ 3 (Prepare Data) ต่อไป"
   ]
  },
  {
   "cell_type": "markdown",
   "id": "064dc740",
   "metadata": {},
   "source": [
    "### 2)  วิเคราะห์รายละเอียดทางสถิติของข้อมูล\n",
    "โดยข้อมูลเราแบ่งเป็น numeric variables และcategorical variables การวิเคราะห์จะต้องแตกต่างกันสามารถวิเคราะห์ได้ทั้งการแสดงค่าทางสถิติเบื้องต้นของแต่ละตัวแปร หรือ plot graph เพื่อดูรูปแบบการกระจายของข้อมูลได้ชัดเจน  \n",
    "  \n",
    "**เริ่มจากการวิเคราะห์numeric variables ก่อน**"
   ]
  },
  {
   "cell_type": "code",
   "execution_count": 5,
   "id": "3c453037",
   "metadata": {
    "scrolled": true
   },
   "outputs": [
    {
     "data": {
      "text/html": [
       "<div>\n",
       "<style scoped>\n",
       "    .dataframe tbody tr th:only-of-type {\n",
       "        vertical-align: middle;\n",
       "    }\n",
       "\n",
       "    .dataframe tbody tr th {\n",
       "        vertical-align: top;\n",
       "    }\n",
       "\n",
       "    .dataframe thead th {\n",
       "        text-align: right;\n",
       "    }\n",
       "</style>\n",
       "<table border=\"1\" class=\"dataframe\">\n",
       "  <thead>\n",
       "    <tr style=\"text-align: right;\">\n",
       "      <th></th>\n",
       "      <th>ApplicantIncome</th>\n",
       "      <th>CoapplicantIncome</th>\n",
       "      <th>LoanAmount</th>\n",
       "      <th>Loan_Amount_Term</th>\n",
       "      <th>Credit_History</th>\n",
       "    </tr>\n",
       "  </thead>\n",
       "  <tbody>\n",
       "    <tr>\n",
       "      <th>count</th>\n",
       "      <td>614.000000</td>\n",
       "      <td>614.000000</td>\n",
       "      <td>592.000000</td>\n",
       "      <td>600.00000</td>\n",
       "      <td>564.000000</td>\n",
       "    </tr>\n",
       "    <tr>\n",
       "      <th>mean</th>\n",
       "      <td>5403.459283</td>\n",
       "      <td>1621.245798</td>\n",
       "      <td>146.412162</td>\n",
       "      <td>342.00000</td>\n",
       "      <td>0.842199</td>\n",
       "    </tr>\n",
       "    <tr>\n",
       "      <th>std</th>\n",
       "      <td>6109.041673</td>\n",
       "      <td>2926.248369</td>\n",
       "      <td>85.587325</td>\n",
       "      <td>65.12041</td>\n",
       "      <td>0.364878</td>\n",
       "    </tr>\n",
       "    <tr>\n",
       "      <th>min</th>\n",
       "      <td>150.000000</td>\n",
       "      <td>0.000000</td>\n",
       "      <td>9.000000</td>\n",
       "      <td>12.00000</td>\n",
       "      <td>0.000000</td>\n",
       "    </tr>\n",
       "    <tr>\n",
       "      <th>25%</th>\n",
       "      <td>2877.500000</td>\n",
       "      <td>0.000000</td>\n",
       "      <td>100.000000</td>\n",
       "      <td>360.00000</td>\n",
       "      <td>1.000000</td>\n",
       "    </tr>\n",
       "    <tr>\n",
       "      <th>50%</th>\n",
       "      <td>3812.500000</td>\n",
       "      <td>1188.500000</td>\n",
       "      <td>128.000000</td>\n",
       "      <td>360.00000</td>\n",
       "      <td>1.000000</td>\n",
       "    </tr>\n",
       "    <tr>\n",
       "      <th>75%</th>\n",
       "      <td>5795.000000</td>\n",
       "      <td>2297.250000</td>\n",
       "      <td>168.000000</td>\n",
       "      <td>360.00000</td>\n",
       "      <td>1.000000</td>\n",
       "    </tr>\n",
       "    <tr>\n",
       "      <th>max</th>\n",
       "      <td>81000.000000</td>\n",
       "      <td>41667.000000</td>\n",
       "      <td>700.000000</td>\n",
       "      <td>480.00000</td>\n",
       "      <td>1.000000</td>\n",
       "    </tr>\n",
       "  </tbody>\n",
       "</table>\n",
       "</div>"
      ],
      "text/plain": [
       "       ApplicantIncome  CoapplicantIncome  LoanAmount  Loan_Amount_Term  \\\n",
       "count       614.000000         614.000000  592.000000         600.00000   \n",
       "mean       5403.459283        1621.245798  146.412162         342.00000   \n",
       "std        6109.041673        2926.248369   85.587325          65.12041   \n",
       "min         150.000000           0.000000    9.000000          12.00000   \n",
       "25%        2877.500000           0.000000  100.000000         360.00000   \n",
       "50%        3812.500000        1188.500000  128.000000         360.00000   \n",
       "75%        5795.000000        2297.250000  168.000000         360.00000   \n",
       "max       81000.000000       41667.000000  700.000000         480.00000   \n",
       "\n",
       "       Credit_History  \n",
       "count      564.000000  \n",
       "mean         0.842199  \n",
       "std          0.364878  \n",
       "min          0.000000  \n",
       "25%          1.000000  \n",
       "50%          1.000000  \n",
       "75%          1.000000  \n",
       "max          1.000000  "
      ]
     },
     "execution_count": 5,
     "metadata": {},
     "output_type": "execute_result"
    }
   ],
   "source": [
    "#แสดงค่าทางสถิติเบื้องต้นของ numeric variables\n",
    "loan.describe()"
   ]
  },
  {
   "cell_type": "markdown",
   "id": "98b627e2",
   "metadata": {},
   "source": [
    "เริ่มต้นที่การวิเคราะห์ทางสถิติเบื้องต้น เราจะเห็นค่าทางสถิติทั้ง count, mean, standard, deviation, minimun, maximum และ quartiles สิ่งที่ควรสังเกตหลักๆ คือ   \n",
    "* meanหรือค่าเฉลี่ยแต่ละตัวแปรจะทำให้รู้ว่าเมื่อรวมทุกข้อมูลแล้วเฉลี่ยด้วยจำนวนข้อมูลมีค่าเท่ากับเท่าไหร่ สามารถรู้แนวโน้มของข้อมูลว่าส่วนใหญ่อยู่บริเวณไหนซึ่งจะใกล้เคียงกับค่าเฉลี่ยนั่นเอง    \n",
    "  \n",
    "  \n",
    "* standard deviation หรือ ส่วนเบี่ยงเบนมาตรฐาน แสดงถึง การกระจายของข้อมูลจากค่าเฉลี่ย จะทำให้รู้ว่าข้อมูลกระจายมากน้อยขนาดไหน โดยถ้า stdมีค่ามาก แสดงถึงการกระจายที่มากขึ้น ซึ่งหากข้อมูลมีการกระจายที่มากเกินไปจำทำให้ความแปรปรวนมากขึ้นได้แล้วส่งผลเสียต่อการทำนายสินเชื่อทำให้เกิดความคลาดเคลื่อนที่สูงขึ้นได้  \n",
    "  \n",
    "จากข้อมูลจะสังเกตว่า ตัวแปรApplicantIncome\tมีการกระจายที่มากพอสมควรซึ่งเกิดจาก บางข้อมูลที่มีค่าสุดโต่งเกินไป(outlier) สังเกตได้จากmaxที่มีค่า 81000 dollar และmin มีค่า150 dollar และ ตัวแปรCoapplicantIncome ก็มีการกระจายที่มากด้วยเช่นกัน ดังนั้นจึงควรตัดoutlier ที่มีค่าสุดโต่งออกไปบ้าง เพื่อให้ไม่เกิดความความแปรปรวนที่มากตามมา ซึ่งจะทำในขั้นตอนที่ 3 (Prepare Data) ต่อไป"
   ]
  },
  {
   "cell_type": "markdown",
   "id": "b8fca476",
   "metadata": {},
   "source": [
    "ต่อไปเรายังอยู่ในการวิเคราะห์numeric variables แต่จะเป็นการวิเคราะห์โดยplot graph ให้เห็นการกระจายของข้อมูลและค่าทางสถิติได้ชัดเจน โดยเลือกที่จะใช้ Box Plot มา visualize เพราะBox Plot จะแสดงให้เห็นการกระจายของข้อมูลและค่าทางสถิติของข้อมูลได้ชัดเจน โดยจะขอเลือกมาเฉพาะตัวแปรApplicantIncome และ CoapplicantIncome เนื่องจากมีค่าstdที่สูง"
   ]
  },
  {
   "cell_type": "code",
   "execution_count": 6,
   "id": "74e33339",
   "metadata": {},
   "outputs": [
    {
     "data": {
      "image/png": "[encoded data removed]",
      "text/plain": [
       "<Figure size 576x720 with 2 Axes>"
      ]
     },
     "metadata": {
      "needs_background": "light"
     },
     "output_type": "display_data"
    }
   ],
   "source": [
    "#Box plot แสดงการกระจายข้อมูลและค่าทางสถิติของnumeric variables\n",
    "fig, ax = plt.subplots(1,2)\n",
    "fig.set_size_inches([8,10])\n",
    "ax[0].boxplot(loan['ApplicantIncome'])\n",
    "ax[0].set_xticklabels(['ApplicantIncome'])\n",
    "ax[0].set_ylabel('Monthly Income (Dollar)')\n",
    "ax[1].boxplot(loan['CoapplicantIncome'])\n",
    "ax[1].set_xticklabels(['CoapplicantIncome'])\n",
    "plt.show()"
   ]
  },
  {
   "cell_type": "markdown",
   "id": "bc89c7f9",
   "metadata": {},
   "source": [
    "จะเห็นว่า ตัวแปรApplicantIncome และ CoapplicantIncome จะมีoutlierที่สุดโต่งอยู่ทำให้ส่วนเบี่ยงเบนมาตรฐานสูง ดังนั้นจึงควรตัดoutlierที่สุดโต่งออก ยกตัวอย่าง ตัวแปรApplicantIncome ควรเลือกข้อมูลอยู่ในช่วงไม่เกิน30000dollar หรือตัวแปร CoapplicantIncome ควรเลือกข้อมูลไม่เกิน15000 dollar ซึ่งจะทำในขั้นตอนที่ 3 (Prepare Data) ต่อไป"
   ]
  },
  {
   "cell_type": "markdown",
   "id": "ed3bb4df",
   "metadata": {},
   "source": [
    "**ต่อมาวิเคราะห์categorical variables**  \n",
    "\n",
    "การวิเคราะห์categorical variables ควรใช้การplot graph เพื่อให้เห็นความแตกต่างของunique value แต่ละตัวแปรได้ชัดเจน โดยgraphที่ทางผู้เขียนต้องการจะแสดงของแต่ละตัวแปร ประกอบด้วย  \n",
    "1) bar plot แสดง จำนวนข้อมูลของvalue แต่ละตัวแปร เพื่อแสดงให้เห็นว่า จำนวนข้อมูลอยู่ในvalueไหนเป็นส่วนใหญ่ และvalueไหนเป็นส่วนน้อยลงมาตามลำดับ ทำเข้าใจลักษณะของข้อมูลได้เบื้องต้น  \n",
    "\n",
    "2) bar plot แสดง จำนวนของข้อมูลแต่ละแปร ที่ ผ่านการอนุมัติสินเชื่อ และ ไม่ผ่านการอนุมัติสินเชื่อ เพื่อแสดงให้เห็น จำนวนข้อมูลของแต่ละตัวแปรที่ผ่านการอนุมัติว่า อยู่ในvalueไหน และไม่ผ่านการอนุมัติสินเชื่อ อยูในvalueไหน ทำเข้าใจลักษณะของข้อมูลได้เบื้องต้น"
   ]
  },
  {
   "cell_type": "markdown",
   "id": "712be553",
   "metadata": {},
   "source": [
    "การวิเคราะห์จะแสดงให้เห็นทั้งสองGraph ทีละตัวแปร ได้ผลการวิเคราะห์ดังนี้  \n",
    "  \n",
    " * ตัวแปร Gender (เพศ)"
   ]
  },
  {
   "cell_type": "code",
   "execution_count": 7,
   "id": "8465892c",
   "metadata": {
    "scrolled": false
   },
   "outputs": [
    {
     "data": {
      "image/png": "[encoded data removed]",
      "text/plain": [
       "<Figure size 432x288 with 1 Axes>"
      ]
     },
     "metadata": {
      "needs_background": "light"
     },
     "output_type": "display_data"
    },
    {
     "data": {
      "image/png": "[encoded data removed]",
      "text/plain": [
       "<Figure size 432x288 with 1 Axes>"
      ]
     },
     "metadata": {
      "needs_background": "light"
     },
     "output_type": "display_data"
    }
   ],
   "source": [
    "#bar plot แสดง จำนวนข้อมูลของvalue\n",
    "plt.bar(['Female', 'Male'],loan['Gender'].value_counts().sort_values())\n",
    "plt.xlabel('Gender')\n",
    "plt.ylabel('Number of loan request')\n",
    "plt.show()\n",
    "\n",
    "#bar plot แสดง จำนวนของข้อมูลของตัวแปร ที่ ผ่านการอนุมัติสินเชื่อ และ ไม่ผ่านการอนุมัติสินเชื่อ\n",
    "gender_loan_status = pd.crosstab(loan['Gender'], loan['Loan_Status'])\n",
    "gender_loan_status.plot(kind='bar',color=['red','blue'], rot=0)\n",
    "plt.ylabel('Number of loan request')\n",
    "plt.show()\n"
   ]
  },
  {
   "cell_type": "markdown",
   "id": "da1052d7",
   "metadata": {},
   "source": [
    "-เพศชายมีจำนวนการขอสินเชื่อมากกว่าเพศหญิง   \n",
    "-ทั้งเพศชายและเพศหญิงสามารถขอสินเชื่อแล้วได้รับการอนุมัติมากกว่าไม่ได้รับการอนุมัติ แต่เพศชายมีแนวโน้มในการขอสินเชื่อแล้วได้รับการอนุมัติ ใกลเคียงกับ เพศหญิง"
   ]
  },
  {
   "cell_type": "markdown",
   "id": "7377076d",
   "metadata": {},
   "source": [
    "* ตัวแปร Married (การแต่งงาน) "
   ]
  },
  {
   "cell_type": "code",
   "execution_count": 8,
   "id": "6bfe79be",
   "metadata": {},
   "outputs": [
    {
     "data": {
      "image/png": "[encoded data removed]",
      "text/plain": [
       "<Figure size 432x288 with 1 Axes>"
      ]
     },
     "metadata": {
      "needs_background": "light"
     },
     "output_type": "display_data"
    },
    {
     "data": {
      "image/png": "[encoded data removed]",
      "text/plain": [
       "<Figure size 432x288 with 1 Axes>"
      ]
     },
     "metadata": {
      "needs_background": "light"
     },
     "output_type": "display_data"
    }
   ],
   "source": [
    "#bar plot แสดง จำนวนข้อมูลของvalue\n",
    "plt.bar(['No', 'Yes'],loan['Married'].value_counts().sort_values())\n",
    "plt.xlabel('Married')\n",
    "plt.ylabel('Number of loan request')\n",
    "plt.show()\n",
    "\n",
    "#bar plot แสดง จำนวนของข้อมูลของตัวแปร ที่ ผ่านการอนุมัติสินเชื่อ และ ไม่ผ่านการอนุมัติสินเชื่อ\n",
    "married_loan_status = pd.crosstab(loan['Married'], loan['Loan_Status'])\n",
    "married_loan_status.plot(kind='bar', color=['red','blue'], rot=0)\n",
    "plt.ylabel('Number of loan request')\n",
    "plt.show()"
   ]
  },
  {
   "cell_type": "markdown",
   "id": "bacb6eed",
   "metadata": {},
   "source": [
    "-คนที่แต่งงานมีจำนวนการขอสินเชื่อมากกว่าคนที่ไม่แต่งงาน   \n",
    "\n",
    "-ทั้งคนที่แต่งงานและคนที่ไม่แต่งงานสามารถขอสินเชื่อแล้วได้รับการอนุมัติมากกว่าไม่ได้รับการอนุมัติ แต่หากเป็นคนที่แต่งงานจะมีแนวโน้มการขอสินเชื่อแล้วได้รับการอนุมัติ มากกว่า คนที่ไม่แต่งงาน"
   ]
  },
  {
   "cell_type": "markdown",
   "id": "ce49437e",
   "metadata": {},
   "source": [
    "* ตัวแปร Dependents (ผู้อยู่ในอุปการะ)"
   ]
  },
  {
   "cell_type": "code",
   "execution_count": 9,
   "id": "6eb24ce1",
   "metadata": {
    "scrolled": false
   },
   "outputs": [
    {
     "data": {
      "image/png": "[encoded data removed]",
      "text/plain": [
       "<Figure size 432x288 with 1 Axes>"
      ]
     },
     "metadata": {
      "needs_background": "light"
     },
     "output_type": "display_data"
    },
    {
     "data": {
      "image/png": "[encoded data removed]",
      "text/plain": [
       "<Figure size 432x288 with 1 Axes>"
      ]
     },
     "metadata": {
      "needs_background": "light"
     },
     "output_type": "display_data"
    }
   ],
   "source": [
    "#bar plot แสดง จำนวนข้อมูลของvalue\n",
    "plt.bar(['0','1','2','3+'],loan['Dependents'].value_counts())\n",
    "plt.xlabel('Dependents')\n",
    "plt.ylabel('Number of loan request')\n",
    "plt.show()\n",
    "\n",
    "#bar plot แสดง จำนวนของข้อมูลของตัวแปร  ที่ ผ่านการอนุมัติสินเชื่อ และ ไม่ผ่านการอนุมัติสินเชื่อ\n",
    "dependents_loan_status = pd.crosstab(loan['Dependents'], loan['Loan_Status'])\n",
    "dependents_loan_status.plot(kind='bar',color=['red','blue'], rot=0)\n",
    "plt.ylabel('Number of loan request')\n",
    "plt.show()"
   ]
  },
  {
   "cell_type": "markdown",
   "id": "12347187",
   "metadata": {},
   "source": [
    "-คนที่มีผู้อยู่ในอุปการะมากกว่า3คน มีการขอสินเชื่อมากที่สุดแล้วคนที่มีผู้อยู่ในอุปการะ 2คน 1คนและไม่มีผู้อยู่ในอุปการะ มีการขอสินเชื่อลดลงมาตามลำดับ     \n",
    "\n",
    "-ทั้งคนมีผู้อยู่ในอุปการะมากกว่า3คน, 2คน, 1คนและไม่มีผู้อยู่ในอุปการะ สามารถขอสินเชื่อแล้วได้รับการอนุมัติมากกว่าไม่ได้รับการอนุมัติ แต่คนที่ไม่มีผู้อยู่ในอุปการะ คนที่มีผู้อยู่ในอุปการะ2คน 1คน และ3คน มีแนวโน้มการขอสินเชื่อแล้วได้รับการอนุมัติ มากกว่า ตามลำดับ"
   ]
  },
  {
   "cell_type": "markdown",
   "id": "74cdff48",
   "metadata": {},
   "source": [
    "* ตัวแปร Education (ระดับการศึกษา)"
   ]
  },
  {
   "cell_type": "code",
   "execution_count": 10,
   "id": "a815d40b",
   "metadata": {},
   "outputs": [
    {
     "data": {
      "image/png": "[encoded data removed]",
      "text/plain": [
       "<Figure size 432x288 with 1 Axes>"
      ]
     },
     "metadata": {
      "needs_background": "light"
     },
     "output_type": "display_data"
    },
    {
     "data": {
      "image/png": "[encoded data removed]",
      "text/plain": [
       "<Figure size 432x288 with 1 Axes>"
      ]
     },
     "metadata": {
      "needs_background": "light"
     },
     "output_type": "display_data"
    }
   ],
   "source": [
    "#bar plot แสดง จำนวนข้อมูลของvalue\n",
    "plt.bar(['Graduate','Not Graduate',],loan['Education'].value_counts())\n",
    "plt.xlabel('Dependents')\n",
    "plt.ylabel('Number of loan request')\n",
    "plt.show()\n",
    "\n",
    "#bar plot แสดง จำนวนของข้อมูลของตัวแปร  ที่ ผ่านการอนุมัติสินเชื่อ และ ไม่ผ่านการอนุมัติสินเชื่อ\n",
    "education_loan_status = pd.crosstab(loan['Education'], loan['Loan_Status'])\n",
    "education_loan_status.plot(kind='bar',color=['red','blue'], rot=0)\n",
    "plt.ylabel('Number of loan request')\n",
    "plt.show()"
   ]
  },
  {
   "cell_type": "markdown",
   "id": "ef36f2ca",
   "metadata": {},
   "source": [
    "-ผู้ที่เรียนจบปริญญามีการขอสินเชื่อมากกว่าผู้ที่เรียนไม่จบปริญญา  \n",
    "  \n",
    "-ทั้งผู้ที่เรียนจบปริญญาและผู้ที่เรียนไม่จบปริญญาสามารถขอสินเชื่อแล้วได้รับการอนุมัติมากกว่าไม่ได้รับการอนุมัติ แต่ผู้ที่เรียนจบปริญญามีแนวโน้มการขอสินเชื่อแล้วได้รับการอนุมัติ มากกว่า ผูัที่เรียนไม่จบปริญญา"
   ]
  },
  {
   "cell_type": "markdown",
   "id": "90a4b788",
   "metadata": {},
   "source": [
    "* ตัวแปร Self_Employed (เป็นนายตัวเอง)"
   ]
  },
  {
   "cell_type": "code",
   "execution_count": 11,
   "id": "5f74c638",
   "metadata": {},
   "outputs": [
    {
     "data": {
      "image/png": "[encoded data removed]",
      "text/plain": [
       "<Figure size 432x288 with 1 Axes>"
      ]
     },
     "metadata": {
      "needs_background": "light"
     },
     "output_type": "display_data"
    },
    {
     "data": {
      "image/png": "[encoded data removed]",
      "text/plain": [
       "<Figure size 432x288 with 1 Axes>"
      ]
     },
     "metadata": {
      "needs_background": "light"
     },
     "output_type": "display_data"
    }
   ],
   "source": [
    "#bar plot แสดง จำนวนข้อมูลของvalue\n",
    "plt.bar(['No','Yes',],loan['Self_Employed'].value_counts())\n",
    "plt.xlabel('Self_Employed')\n",
    "plt.ylabel('Number of loan request')\n",
    "plt.show()\n",
    "\n",
    "#bar plot แสดง จำนวนของข้อมูลของตัวแปร ที่ ผ่านการอนุมัติสินเชื่อ และ ไม่ผ่านการอนุมัติสินเชื่อ\n",
    "education_loan_status = pd.crosstab(loan['Self_Employed'], loan['Loan_Status'])\n",
    "education_loan_status.plot(kind='bar',color=['red','blue'], rot=0)\n",
    "plt.ylabel('Number of loan request')\n",
    "plt.show()"
   ]
  },
  {
   "cell_type": "markdown",
   "id": "93bfb258",
   "metadata": {},
   "source": [
    "-ผู้ไม่เป็นนายตัวเองมีการขอสินเชื่อมากกว่าผู้เป็นนายตัวเอง\n",
    "  \n",
    "-ทั้งผู้เป็นนายตัวเองและผู้ไม่เป็นนายตัวเองสามารถขอสินเชื่อแล้วได้รับการอนุมัติมากกว่าไม่ได้รับการอนุมัติ และผู้เป็นนายตัวเองมีแนวโน้มการขอสินเชื่อแล้วได้รับการอนุมัติ ใกล้เคียงกับ ผู้ไม่เป็นนายตัวเอง"
   ]
  },
  {
   "cell_type": "markdown",
   "id": "0bba6199",
   "metadata": {},
   "source": [
    "* ตัวแปร Property_Area (พื้นที่อยู่อาศัย)"
   ]
  },
  {
   "cell_type": "code",
   "execution_count": 12,
   "id": "a286673f",
   "metadata": {},
   "outputs": [
    {
     "data": {
      "image/png": "[encoded data removed]",
      "text/plain": [
       "<Figure size 432x288 with 1 Axes>"
      ]
     },
     "metadata": {
      "needs_background": "light"
     },
     "output_type": "display_data"
    },
    {
     "data": {
      "image/png": "[encoded data removed]",
      "text/plain": [
       "<Figure size 432x288 with 1 Axes>"
      ]
     },
     "metadata": {
      "needs_background": "light"
     },
     "output_type": "display_data"
    }
   ],
   "source": [
    "#bar plot แสดง จำนวนข้อมูลของvalue\n",
    "plt.bar(['Semiurban','Urban','Rural'],loan['Property_Area'].value_counts())\n",
    "plt.xlabel('Self_Employed')\n",
    "plt.ylabel('Number of loan request')\n",
    "plt.show()\n",
    "\n",
    "#bar plot แสดง จำนวนของข้อมูลของตัวแปร ที่ ผ่านการอนุมัติสินเชื่อ และ ไม่ผ่านการอนุมัติสินเชื่อ\n",
    "education_loan_status = pd.crosstab(loan['Property_Area'], loan['Loan_Status'])\n",
    "education_loan_status.plot(kind='bar',color=['red','blue'], rot=0)\n",
    "plt.ylabel('Number of loan request')\n",
    "plt.show()"
   ]
  },
  {
   "cell_type": "markdown",
   "id": "890de58e",
   "metadata": {},
   "source": [
    "-ผู้อาศัยอยู่ชานเมืองมีการขอสินเชื่อมากที่สุดแล้วผู้ที่อาศัยอยู่ในเมืองและผู้ที่อาศัยอยู่ในชนบทมีการขอสินเชื่อลดลงมาตามลำดับ\n",
    "\n",
    "-ทั้งผู้อาศัยอยู่ในเมือง, ชานเมืองและชนบทสามารถขอสินเชื่อแล้วได้รับการอนุมัติมากกว่าไม่ได้รับการอนุมัติ แต่ผู้อาศัยอยู่ชานเมือง, ในเมือง และในชนบทมีแนวโน้มการขอสินเชื่อแล้วได้รับการอนุมัติ มากกว่า ตามลำดับ "
   ]
  },
  {
   "cell_type": "markdown",
   "id": "bfdb5975",
   "metadata": {},
   "source": [
    "Exploratory Data Analysis (EDA) ทำให้เราได้เข้าใจรายละเอียดของข้อมูลได้อย่างมากทั้ง numeric variables และ categorical variables และทราบถึงปัญหาที่เกิดขึ้นกับข้อมูล เช่น มีข้อมูลขาดหายไป(missing values), มีข้อมูลที่สุดโต่ง (outlier) ซึ่งในขั้นตอนต่อไปเราจะได้จัดเตรียมข้อมูลให้พร้อมใช้งาน และ แก้ไขปัญหาต่างดังที่กล่าวมาข้างต้น"
   ]
  },
  {
   "cell_type": "markdown",
   "id": "d4829ef0",
   "metadata": {},
   "source": [
    "## 3. เตรียมพร้อมข้อมูล\n",
    "การเตรียมข้อมูล ถือเป็นขั้นตอนที่ใช้เวลานานในการทำโปรเจค เพราะ ข้อมูลมักจะมีขนาดใหญ่จัดการได้ยาก ต้องทำความสะอาดข้อมูลอย่างละเอียด และจัดรูปแบบของข้อมูลให้พร้อมใช้งาน ทั้งหมดเพื่อลดการเกิดปัญหาตามมาในขณะทำการสร้างโมเดล ทั้งข้อมูลเกิดbiasที่มาก, varianceที่สูง ซึ่งจะทำให้ผลการทำนายเกิดความคลาดเคลื่อนและไม่แม่นยำได้ การเตรียมพร้อมข้อมูลจึงเป็นขั้นตอนที่สำคัญ โดยมีขั้นตอนให้เห็นดังต่อไปนี้"
   ]
  },
  {
   "cell_type": "markdown",
   "id": "23b91d44",
   "metadata": {},
   "source": [
    "### จัดการกับ Outlier\n",
    "outlier คือ data points ที่มีค่าสูงหรือต่ำกว่า data points ส่วนใหญ่ในชุดข้อมูลหนึ่งๆอย่างมาก จากที่เราได้สำรวจข้อมูลในขั้นตอนที่สอง พบว่า ตัวแปรApplicantIncome และ CoapplicantIncome outlierที่เป็นค่าสุดโต่งอยู่ทำให้ส่วนเบี่ยงเบนมาตรฐานสูง ดังนั้นจึงควรตัดoutlierที่สุดโต่งออก โดยกำหนดขอบเขตของตัวแปร ดังนี้  \n",
    "  \n",
    "* ตัวแปรApplicantIncome     >> เลือกข้อมูลอยู่ในช่วงไม่เกิน 30000 dollar  \n",
    "  "
   ]
  },
  {
   "cell_type": "code",
   "execution_count": 13,
   "id": "81c2043f",
   "metadata": {},
   "outputs": [
    {
     "name": "stdout",
     "output_type": "stream",
     "text": [
      "Maximun of ApplicantIncome is 23803\n",
      "Mean of ApplicantIncome is 4894.420098846787\n",
      "Standard deviation of ApplicantIncome is 3470.5215166912285\n"
     ]
    }
   ],
   "source": [
    "#filter ApplicantIncome<30000 เพื่อกำจัด outlier \n",
    "loan = loan[loan['ApplicantIncome']<30000]\n",
    "print('Maximun of ApplicantIncome is',np.max(loan['ApplicantIncome']))\n",
    "print('Mean of ApplicantIncome is', np.mean(loan['ApplicantIncome']) )\n",
    "print('Standard deviation of ApplicantIncome is', np.std(loan['ApplicantIncome']) )"
   ]
  },
  {
   "cell_type": "markdown",
   "id": "f53f2026",
   "metadata": {},
   "source": [
    "* ตัวแปร CoapplicantIncome  >> เลือกข้อมูลไม่เกิน 15000 dollar  \n",
    "  "
   ]
  },
  {
   "cell_type": "markdown",
   "id": "e60acec3",
   "metadata": {},
   "source": [
    "ถึงแม้จะต้องเสียข้อมูลไปบ้างเล็กน้อย แต่ทำให้ภาพรวมของข้อมูลดีขึ้น ทั้งค่าเฉลี่ยแต่ละตัวแปรลดลง ความแปรปรวนก็ลดลงมาด้วยเช่นกัน ทำให้เมื่อทำการทำนายการอนุมัติสินเชื่อแล้วจะมีความแม่นยำและถูกต้องเพิ่มขึ้น"
   ]
  },
  {
   "cell_type": "code",
   "execution_count": 14,
   "id": "f86dd6f4",
   "metadata": {},
   "outputs": [
    {
     "name": "stdout",
     "output_type": "stream",
     "text": [
      "maximun of CoapplicantIncome is 11300.0\n",
      "mean of CoapplicantIncome is 1451.3945605118408\n",
      "Standard deviation of ApplicantIncome is 1769.9562866633185\n"
     ]
    }
   ],
   "source": [
    "#filter CoapplicantIncome<15000 เพื่อกำจัด outlier \n",
    "loan = loan[loan['CoapplicantIncome']<15000]\n",
    "print('maximun of CoapplicantIncome is',np.max(loan['CoapplicantIncome']))\n",
    "print('mean of CoapplicantIncome is', np.mean(loan['CoapplicantIncome']) )\n",
    "print('Standard deviation of ApplicantIncome is', np.std(loan['CoapplicantIncome']) )"
   ]
  },
  {
   "cell_type": "markdown",
   "id": "440ed254",
   "metadata": {},
   "source": [
    "ถึงแม้จะต้องเสียข้อมูลไปบ้างเล็กน้อย แต่ทำให้ภาพรวมของข้อมูลดีขึ้น ทั้งค่าเฉลี่ยแต่ละตัวแปรลดลง ความแปรปรวนก็ลดลงมาด้วยเช่นกัน ทำให้เมื่อทำการทำนายการอนุมัติสินเชื่อแล้วจะมีความแม่นยำและถูกต้องเพิ่มขึ้น"
   ]
  },
  {
   "cell_type": "markdown",
   "id": "eb0336bf",
   "metadata": {},
   "source": [
    "### จัดการกับ Missing values\n",
    "missing values คือ การขาดหายไปของข้อมูล หากปล่อยไว้จะส่งผลเสียต่อการวิเคราะห์ข้อมูล การทำนายการอนุมัติสินเชื่อ รวมทั้งโมเดลที่ถูกสร้างขึ้นมาจากข้อมูล เกิดการบิดเบือนของผลลัพธ์ได้ ดังนั้นต้องให้ความสำคัญกับการจัดการ missing values ของแต่ละตัวแปร แต่การจัดการmissing ของ numeric variable และ categorical variable ย่อมใช้วิธีแตกต่างกัน เพราะมีลักษณะของข้อมูลที่แตกต่างกัน โดยจะแสดงวิธีในรายละเอียดต่อไป\n",
    "  \n",
    "เริ่มจากการตรวจสอบจำนวนของmissing valuesของแต่ละตัวแปรก่อนเพื่อทราบถึงจำนวนว่ามาก-น้อยขนาดไหน และ ใช้ในการพิจารณาเลือกวิธีในการจัดการmissing value"
   ]
  },
  {
   "cell_type": "code",
   "execution_count": 15,
   "id": "d627535c",
   "metadata": {},
   "outputs": [
    {
     "name": "stdout",
     "output_type": "stream",
     "text": [
      "                   number of missing value  % missing value\n",
      "Gender                                  12         1.990050\n",
      "Married                                  3         0.497512\n",
      "Dependents                              15         2.487562\n",
      "Education                                0         0.000000\n",
      "Self_Employed                           30         4.975124\n",
      "ApplicantIncome                          0         0.000000\n",
      "CoapplicantIncome                        0         0.000000\n",
      "LoanAmount                              22         3.648425\n",
      "Loan_Amount_Term                        14         2.321725\n",
      "Credit_History                          49         8.126036\n",
      "Property_Area                            0         0.000000\n",
      "Loan_Status                              0         0.000000\n"
     ]
    }
   ],
   "source": [
    "#check the numbor of missing values each variables\n",
    "ms = pd.DataFrame(loan.isna().sum(), columns=['number of missing value'])\n",
    "ms['% missing value'] = (loan.isna().sum() / len(loan))*100\n",
    "print(ms)"
   ]
  },
  {
   "cell_type": "markdown",
   "id": "9684a680",
   "metadata": {},
   "source": [
    "-การจัดการmissing value ต้องแบ่งตามลักษณะของข้อมูลก่อน พบว่า มีnumeric variableที่พบmissing value คือ LoanAmount , Loan_Amount_Term และ Credit_History แล้ว categorical variableที่พบmissing value คือ Gender, Married Dependents, Self_Employed   \n",
    "  \n",
    "-จะสังเกตได้ว่าข้อมูลแต่ละตัวแปรที่missing valuesที่มากพอสมควร โดยเฉพาะLoan_Amount_Term 22 จำนวนจาก614ข้อมูล, Credit_History 49 จำนวน จึงต้องยอมรับว่า ชุดข้อมูลนี้ที่นำมาไม่ได้มีคุณภาพมากนัก อาจจะได้โมเดลที่มีค่าความแม่นยำไม่สูงมากนัก แต่ก็จำเป้นต้องแก้ปัญหานี้ต่อไป"
   ]
  },
  {
   "cell_type": "markdown",
   "id": "962602c4",
   "metadata": {},
   "source": [
    "* จัดการ Missing values ของ numeric variables \n",
    "\n",
    "วิธีในการจัดการมีหลายวิธี เช่น การแทนที่ด้วยค่าทางสถิติอย่างmean median หรือ mode, แทนที่ด้วย0, คำนวนด้วยdeep learning และ ตัดชุดข้อข้อมูลทิ้งไป เป็นต้น แต่การเลือกให้วิธีก็ควรเลือกให้เหมาะสมกับชุดข้อมูลด้วยเช่นกัน\n",
    "  \n",
    "วิธีที่เราเลือกในที่นี้ คือ การแทนที่ด้วยค่าทางสถิติอย่างmean เพราะ มีความสะดวกและรวดเร็ว เหมาะสมกับขนาดของข้อมูลที่มีจำนวนไม่มาก ทำให้เมื่อแทนที่missing valueแล้วโอกาสของค่าเฉลี่ยใกล้เคียงกับค่าจริงของmissing valueจึงสูง และวิธีนี้ดีกว่าการตัดชุดข้อมูลตรงที่การตัดชุดข้อมูลในขนาดข้อมูลที่ไม่มากจะยิ่งทำให้ข้อมูลลดลงไปอีก พอทำการทำนายจะมีความถูกต้องและแม่นยำลดลงได้"
   ]
  },
  {
   "cell_type": "code",
   "execution_count": 16,
   "id": "ff756a40",
   "metadata": {},
   "outputs": [],
   "source": [
    "# fill missing value of LoanAmount with mean\n",
    "loan['LoanAmount'].fillna(loan['LoanAmount'].mean(), inplace=True)"
   ]
  },
  {
   "cell_type": "code",
   "execution_count": 17,
   "id": "b62b55dd",
   "metadata": {},
   "outputs": [],
   "source": [
    "# fill missing value of Loan_Amount_Term with mean\n",
    "loan['Loan_Amount_Term'].fillna(loan['Loan_Amount_Term'].mean(), inplace=True)"
   ]
  },
  {
   "cell_type": "markdown",
   "id": "476d6249",
   "metadata": {},
   "source": [
    "แต่ ตัวแปรCredit_History เมื่อลองมาดูค่าของข้อมูลพบว่า มีค่ากระจุกตัวอยู่ที่ 0 และ 1 การจะแทนที่missing valueด้วย mean จะไม่เหมาะสมในกรณีนี้ เพราะ จะได้ค่าที่ไม่ใกล้เคียงกับความเป็นจริง ดังนั้น ควรจะใช้mode(ฐานนิยม) ในการแทนที่missing valueแทน"
   ]
  },
  {
   "cell_type": "code",
   "execution_count": 18,
   "id": "f2cc45e5",
   "metadata": {},
   "outputs": [],
   "source": [
    "# fill missing value of Loan_Amount_Term with mode\n",
    "loan['Credit_History'].fillna(loan['Credit_History'].mode()[0], inplace=True)"
   ]
  },
  {
   "cell_type": "markdown",
   "id": "bca663ea",
   "metadata": {},
   "source": [
    "* จัดการ Missing values ของ categorical variables \n",
    "\n",
    "categorical variables เป็นข้อมูลเชิงคุณภาพที่คาดเดาได้ยาก การวิเคราะห์ว่าควรใช้วิธีไหนจะต้องวิเคราะห์ทีละตัวแปรจะเป็นผลดีกว่าใช้วิธีเดียวกัน  \n",
    "  \n",
    "Gender เมื่อกลับไปดูEDAในขั้นตอนที่2 สามารถคาดคะแนได้ว่า ไม่ว่าจะเป็นเพศชาย หรือ เพศหญิง สามารถได้รับโอกาสในการอนุมัติสินเชื่อใกล้เคียงกัน แสดงถึง ตัวแปรเพศไม่ได้มีความสำคัญ ต่อ การอนุมัติสินเชื่อ เราจึงสามารถแทนตัวแปรเพศใดก็ได้ไปในmissing value ในที่นี้จะเลือกค่าที่มากที่สุด(mode) นั่นก็คือ เพศชาย ในความจริงแล้วนี่เป็นเพียงการคาดคะแนเท่านั้น การจะรู้ได้จริงๆได้ต้องหาค่าความสำคัญของfeature ซึ่งจะทำในขั้นตอนที่ 4 การประเมินผลลัพธ์ต่อไป "
   ]
  },
  {
   "cell_type": "code",
   "execution_count": 19,
   "id": "6c876c93",
   "metadata": {},
   "outputs": [],
   "source": [
    "#fill missing value with male \n",
    "loan['Gender'].fillna('Male', inplace=True)"
   ]
  },
  {
   "cell_type": "markdown",
   "id": "1a1e35b7",
   "metadata": {},
   "source": [
    "Married เมื่อกลับไปดูEDAในขั้นตอนที่2 สามารถคาดคะแนได้ว่า คนที่แต่งงาน มีโอกาสในการขออนุมัติสินเชื่อแล้วผ่านมากกว่า คนที่ไม่แต่งงาน แสดงถึง ตัวแปรการแต่งงานมีความสำคัญ ต่อ การอนุมัติสินเชื่อ ดังนั้น เราไม่ควรจะแทนที่ด้วยข้อมูล เพราะ จะมีผลต่อการอนุมัติสินเชื่อได้ ในที่นี้ควรตัดข้อมูลทิ้งไป เนื่องจาก ข้อมูลmissing value เพื่อไม่ทำให้ความสัมพันธ์บิดเบือนด้วย"
   ]
  },
  {
   "cell_type": "code",
   "execution_count": 20,
   "id": "3c255643",
   "metadata": {},
   "outputs": [],
   "source": [
    "#drop row that have missing value of Married variable  \n",
    "loan.dropna(subset=['Married'],inplace=True)"
   ]
  },
  {
   "cell_type": "markdown",
   "id": "2c82f6b1",
   "metadata": {},
   "source": [
    "Dependents เมื่อกลับไปดูEDAในขั้นตอนที่2 สามารถคาดคะแนได้ว่า คนที่ไม่มีผู้อยู่ในอุปการะ คนที่มีผู้อยู่ในอุปการะ2คน 1คน และ3คน มีแนวโน้มการขอสินเชื่อแล้วได้รับการอนุมัติ มากกว่า ตามลำดับ แสดงถึง ตัวแปรผู้อยู่ในอุปการะมีความสำคัญ ต่อ การอนุมัติสินเชื่อ ดังนั้น เราไม่ควรจะแทนที่ด้วยข้อมูล เพราะ จะมีผลต่อการอนุมัติสินเชื่อได้ ในที่นี้ควรตัดข้อมูลทิ้งไป เพื่อไม่ทำให้ความสัมพันธ์บิดเบือนด้วย"
   ]
  },
  {
   "cell_type": "code",
   "execution_count": 21,
   "id": "f22b0b30",
   "metadata": {},
   "outputs": [],
   "source": [
    "#drop row that have missing value of Dependents variable  \n",
    "loan.dropna(subset=['Dependents'], inplace=True)"
   ]
  },
  {
   "cell_type": "markdown",
   "id": "79f43c1b",
   "metadata": {},
   "source": [
    "Self_Employed เมื่อกลับไปดูEDAในขั้นตอนที่2 สามารถคาดคะแนได้ว่า ทั้งคนที่เป็นนายตัวเองและ  สามารถได้รับโอกาสในการอนุมัติสินเชื่อใกล้เคียงกัน แสดงถึง ตัวแปรการเป็นนายตัวเองไม่มีความสำคัญ ต่อ การอนุมัติสินเชื่อ ดังนั้น เราจึงสามารถแทนตัวแปรเพศใดก็ได้ไปในmissing value ในที่นี้จะเลือกค่าที่มากที่สุดของตัวแปร(mode) นั่นคือ ไม่เป็นนายตัวเอง(No) "
   ]
  },
  {
   "cell_type": "code",
   "execution_count": 22,
   "id": "2ed416d9",
   "metadata": {},
   "outputs": [],
   "source": [
    "#fill missing value with No\n",
    "loan['Self_Employed'].fillna('No', inplace=True)"
   ]
  },
  {
   "cell_type": "markdown",
   "id": "05a8e100",
   "metadata": {},
   "source": [
    "ในความจริงแล้วการจัดการmissing valueนี้ เป็นเพียงการคาดคะแนเท่านั้นจากข้อมูลจริงที่มีอยู่ การจะรู้ได้จริงว่า ตัวแปรไหนมีความสำคัญจะต้องทำการทดสอบสมมติฐานIndividual ดูความสำคัญของfeature ซึ่งจะทำในขั้นตอนที่ 4 การประเมินผลลัพธ์ต่อไป "
   ]
  },
  {
   "cell_type": "markdown",
   "id": "5910f1a7",
   "metadata": {},
   "source": [
    "ตรวจสอบmissing value อีกครั้งเพื่อมั่นใจว่าไม่มีข้อมูลที่ขาดหายไปหลงเหลืออยู่ และ ไม่เกิดข้อผิดพลาดในการนำข้อมูลไปสร้างโมเดลในขั้นตอนต่อไป"
   ]
  },
  {
   "cell_type": "code",
   "execution_count": 23,
   "id": "89085aa6",
   "metadata": {
    "scrolled": false
   },
   "outputs": [
    {
     "data": {
      "text/plain": [
       "Gender               0\n",
       "Married              0\n",
       "Dependents           0\n",
       "Education            0\n",
       "Self_Employed        0\n",
       "ApplicantIncome      0\n",
       "CoapplicantIncome    0\n",
       "LoanAmount           0\n",
       "Loan_Amount_Term     0\n",
       "Credit_History       0\n",
       "Property_Area        0\n",
       "Loan_Status          0\n",
       "dtype: int64"
      ]
     },
     "execution_count": 23,
     "metadata": {},
     "output_type": "execute_result"
    }
   ],
   "source": [
    "loan.isna().sum()"
   ]
  },
  {
   "cell_type": "markdown",
   "id": "130191be",
   "metadata": {},
   "source": [
    "## 4. สร้างโมเดลทำนายการอนุมัติสินเชื่อ\n"
   ]
  },
  {
   "cell_type": "markdown",
   "id": "c6d2635e",
   "metadata": {},
   "source": [
    "โมเดลก็เป็นเหมือนสมการหนึ่งแต่เป็นสมการที่ไม่สามารถเขียนได้ให้เข้าใจและคำนวณบนกระดาษได้ เพราะ สมการมีความซับซ้อนที่มาก เราสร้างโมเดลเพื่อต้องการหาความสัมพันธ์เชิงลึกของข้อมูลและเพื่อทำนายตัวแปร/ปัจจัยที่เราสนใจ(target)  \n",
    "  \n",
    "ปัจจัยหรือตัวแปรที่เราสนใจในที่นี้คือ Loan_Status (การอนุมัติสินเชื่อ) ว่าจะ อนุมัติ หรือ ไม่อนุมัติสินเชื่อ ดังนั้น Loan_Statusเป็นตัวแปรแบบ categorical variable โมเดลที่นำมาใช้จึงต้องอยู่ในกลุ่ม Classification Model เป็น Supervised Model มีลักษณะการทำงานเป็นการแบ่งกลุ่มของข้อมูล โดยมีต้นแบบของการแบ่งคือ Loan_Status แบ่งได้เป็นสองกลุ่ม คือ อนุมัติสินเชื่อ และไม่อนุมัติสินเชื่อ"
   ]
  },
  {
   "cell_type": "markdown",
   "id": "b33e6f34",
   "metadata": {},
   "source": [
    "### Preprocessing Data\n",
    "หลังจากclean data ก่อนที่จะนำข้อมูลมาสร้างโมเดลควรผ่านการpreprocessingข้อมูลก่อน preprocessingเป็นขั้นตอนการเตรียมข้อมูลให้พร้อมก่อนนำไปใช้กับmachine learning หรือ สร้างโมเดล เพื่อที่จะเพิ่มประสิทธิภาพของmodelในการทำนายหรือวิเคราะห์ข้อมุลได้ถูกต้องและแม่นยำมากขึ้น"
   ]
  },
  {
   "cell_type": "markdown",
   "id": "66b36470",
   "metadata": {},
   "source": [
    "preprocesing นั้นมีหลายวิธีมากแต่หลักที่เราเลือกมา คือ OneHotEncoder() และ StandardScaler() \n",
    "\n",
    "* **OneHotEncoder()** จะแปลงข้อความในcategory variable เป็นตัวเลข 0 และ 1 ซึ่ง 1 คือ การมีข้อมูลชนิดนั้นอยู่, 0 คือไม่มีข้อมูลชนิดนั้น เราเรียกตัวแปรในลักษณะนี้ว่า Dummy variable โดยเมื่อแปลงข้อมูลเป็นตัวเลขแล้วข้อมูลของเรายังคงมีความสัมพันธ์กันอยู่ สาเหตุที่ต้องทำOneHotEncoder เพราะ Machine Learning Model นั้นต้องการ input ที่เป็นตัวเลขในการประมวลผล และยังเพิ่มความรวดเร็วให้กับโมเดลได้อีกด้วย    \n",
    "      "
   ]
  },
  {
   "cell_type": "code",
   "execution_count": 24,
   "id": "ee224e19",
   "metadata": {
    "scrolled": true
   },
   "outputs": [
    {
     "data": {
      "text/plain": [
       "[array(['Female', 'Male'], dtype=object),\n",
       " array(['No', 'Yes'], dtype=object),\n",
       " array(['0', '1', '2', '3+'], dtype=object),\n",
       " array(['Graduate', 'Not Graduate'], dtype=object),\n",
       " array(['No', 'Yes'], dtype=object),\n",
       " array(['Rural', 'Semiurban', 'Urban'], dtype=object),\n",
       " array(['N', 'Y'], dtype=object)]"
      ]
     },
     "metadata": {},
     "output_type": "display_data"
    },
    {
     "data": {
      "text/html": [
       "<div>\n",
       "<style scoped>\n",
       "    .dataframe tbody tr th:only-of-type {\n",
       "        vertical-align: middle;\n",
       "    }\n",
       "\n",
       "    .dataframe tbody tr th {\n",
       "        vertical-align: top;\n",
       "    }\n",
       "\n",
       "    .dataframe thead th {\n",
       "        text-align: right;\n",
       "    }\n",
       "</style>\n",
       "<table border=\"1\" class=\"dataframe\">\n",
       "  <thead>\n",
       "    <tr style=\"text-align: right;\">\n",
       "      <th></th>\n",
       "      <th>Gender_Male</th>\n",
       "      <th>Married_Yes</th>\n",
       "      <th>Dependents_1</th>\n",
       "      <th>Dependents_2</th>\n",
       "      <th>Dependents_3</th>\n",
       "      <th>Education_Not</th>\n",
       "      <th>Self_Employed_Yes</th>\n",
       "      <th>Property_Area_Semiurban</th>\n",
       "      <th>Property_Area_Urban</th>\n",
       "      <th>Loan_Status_Y</th>\n",
       "    </tr>\n",
       "  </thead>\n",
       "  <tbody>\n",
       "    <tr>\n",
       "      <th>0</th>\n",
       "      <td>1.0</td>\n",
       "      <td>0.0</td>\n",
       "      <td>0.0</td>\n",
       "      <td>0.0</td>\n",
       "      <td>0.0</td>\n",
       "      <td>0.0</td>\n",
       "      <td>0.0</td>\n",
       "      <td>0.0</td>\n",
       "      <td>1.0</td>\n",
       "      <td>1.0</td>\n",
       "    </tr>\n",
       "    <tr>\n",
       "      <th>1</th>\n",
       "      <td>1.0</td>\n",
       "      <td>1.0</td>\n",
       "      <td>1.0</td>\n",
       "      <td>0.0</td>\n",
       "      <td>0.0</td>\n",
       "      <td>0.0</td>\n",
       "      <td>0.0</td>\n",
       "      <td>0.0</td>\n",
       "      <td>0.0</td>\n",
       "      <td>0.0</td>\n",
       "    </tr>\n",
       "    <tr>\n",
       "      <th>2</th>\n",
       "      <td>1.0</td>\n",
       "      <td>1.0</td>\n",
       "      <td>0.0</td>\n",
       "      <td>0.0</td>\n",
       "      <td>0.0</td>\n",
       "      <td>0.0</td>\n",
       "      <td>1.0</td>\n",
       "      <td>0.0</td>\n",
       "      <td>1.0</td>\n",
       "      <td>1.0</td>\n",
       "    </tr>\n",
       "    <tr>\n",
       "      <th>3</th>\n",
       "      <td>1.0</td>\n",
       "      <td>1.0</td>\n",
       "      <td>0.0</td>\n",
       "      <td>0.0</td>\n",
       "      <td>0.0</td>\n",
       "      <td>1.0</td>\n",
       "      <td>0.0</td>\n",
       "      <td>0.0</td>\n",
       "      <td>1.0</td>\n",
       "      <td>1.0</td>\n",
       "    </tr>\n",
       "    <tr>\n",
       "      <th>4</th>\n",
       "      <td>1.0</td>\n",
       "      <td>0.0</td>\n",
       "      <td>0.0</td>\n",
       "      <td>0.0</td>\n",
       "      <td>0.0</td>\n",
       "      <td>0.0</td>\n",
       "      <td>0.0</td>\n",
       "      <td>0.0</td>\n",
       "      <td>1.0</td>\n",
       "      <td>1.0</td>\n",
       "    </tr>\n",
       "    <tr>\n",
       "      <th>...</th>\n",
       "      <td>...</td>\n",
       "      <td>...</td>\n",
       "      <td>...</td>\n",
       "      <td>...</td>\n",
       "      <td>...</td>\n",
       "      <td>...</td>\n",
       "      <td>...</td>\n",
       "      <td>...</td>\n",
       "      <td>...</td>\n",
       "      <td>...</td>\n",
       "    </tr>\n",
       "    <tr>\n",
       "      <th>583</th>\n",
       "      <td>0.0</td>\n",
       "      <td>0.0</td>\n",
       "      <td>0.0</td>\n",
       "      <td>0.0</td>\n",
       "      <td>0.0</td>\n",
       "      <td>0.0</td>\n",
       "      <td>0.0</td>\n",
       "      <td>0.0</td>\n",
       "      <td>0.0</td>\n",
       "      <td>1.0</td>\n",
       "    </tr>\n",
       "    <tr>\n",
       "      <th>584</th>\n",
       "      <td>1.0</td>\n",
       "      <td>1.0</td>\n",
       "      <td>0.0</td>\n",
       "      <td>0.0</td>\n",
       "      <td>1.0</td>\n",
       "      <td>0.0</td>\n",
       "      <td>0.0</td>\n",
       "      <td>0.0</td>\n",
       "      <td>0.0</td>\n",
       "      <td>1.0</td>\n",
       "    </tr>\n",
       "    <tr>\n",
       "      <th>585</th>\n",
       "      <td>1.0</td>\n",
       "      <td>1.0</td>\n",
       "      <td>1.0</td>\n",
       "      <td>0.0</td>\n",
       "      <td>0.0</td>\n",
       "      <td>0.0</td>\n",
       "      <td>0.0</td>\n",
       "      <td>0.0</td>\n",
       "      <td>1.0</td>\n",
       "      <td>1.0</td>\n",
       "    </tr>\n",
       "    <tr>\n",
       "      <th>586</th>\n",
       "      <td>1.0</td>\n",
       "      <td>1.0</td>\n",
       "      <td>0.0</td>\n",
       "      <td>1.0</td>\n",
       "      <td>0.0</td>\n",
       "      <td>0.0</td>\n",
       "      <td>0.0</td>\n",
       "      <td>0.0</td>\n",
       "      <td>1.0</td>\n",
       "      <td>1.0</td>\n",
       "    </tr>\n",
       "    <tr>\n",
       "      <th>587</th>\n",
       "      <td>0.0</td>\n",
       "      <td>0.0</td>\n",
       "      <td>0.0</td>\n",
       "      <td>0.0</td>\n",
       "      <td>0.0</td>\n",
       "      <td>0.0</td>\n",
       "      <td>1.0</td>\n",
       "      <td>1.0</td>\n",
       "      <td>0.0</td>\n",
       "      <td>0.0</td>\n",
       "    </tr>\n",
       "  </tbody>\n",
       "</table>\n",
       "<p>588 rows × 10 columns</p>\n",
       "</div>"
      ],
      "text/plain": [
       "     Gender_Male  Married_Yes  Dependents_1  Dependents_2  Dependents_3  \\\n",
       "0            1.0          0.0           0.0           0.0           0.0   \n",
       "1            1.0          1.0           1.0           0.0           0.0   \n",
       "2            1.0          1.0           0.0           0.0           0.0   \n",
       "3            1.0          1.0           0.0           0.0           0.0   \n",
       "4            1.0          0.0           0.0           0.0           0.0   \n",
       "..           ...          ...           ...           ...           ...   \n",
       "583          0.0          0.0           0.0           0.0           0.0   \n",
       "584          1.0          1.0           0.0           0.0           1.0   \n",
       "585          1.0          1.0           1.0           0.0           0.0   \n",
       "586          1.0          1.0           0.0           1.0           0.0   \n",
       "587          0.0          0.0           0.0           0.0           0.0   \n",
       "\n",
       "     Education_Not  Self_Employed_Yes  Property_Area_Semiurban  \\\n",
       "0              0.0                0.0                      0.0   \n",
       "1              0.0                0.0                      0.0   \n",
       "2              0.0                1.0                      0.0   \n",
       "3              1.0                0.0                      0.0   \n",
       "4              0.0                0.0                      0.0   \n",
       "..             ...                ...                      ...   \n",
       "583            0.0                0.0                      0.0   \n",
       "584            0.0                0.0                      0.0   \n",
       "585            0.0                0.0                      0.0   \n",
       "586            0.0                0.0                      0.0   \n",
       "587            0.0                1.0                      1.0   \n",
       "\n",
       "     Property_Area_Urban  Loan_Status_Y  \n",
       "0                    1.0            1.0  \n",
       "1                    0.0            0.0  \n",
       "2                    1.0            1.0  \n",
       "3                    1.0            1.0  \n",
       "4                    1.0            1.0  \n",
       "..                   ...            ...  \n",
       "583                  0.0            1.0  \n",
       "584                  0.0            1.0  \n",
       "585                  1.0            1.0  \n",
       "586                  1.0            1.0  \n",
       "587                  0.0            0.0  \n",
       "\n",
       "[588 rows x 10 columns]"
      ]
     },
     "metadata": {},
     "output_type": "display_data"
    }
   ],
   "source": [
    "#preprocessing OneHotEncoder()\n",
    "from sklearn.preprocessing import OneHotEncoder\n",
    "category = ['Gender','Married','Dependents','Education','Self_Employed','Property_Area','Loan_Status']\n",
    "ohe = OneHotEncoder(sparse=False, drop='first')\n",
    "transform = ohe.fit_transform(loan[category])\n",
    "display(ohe.categories_)\n",
    "#create new dataframe of categorical data and show transform data\n",
    "dummy_variable = ['Gender_Male','Married_Yes','Dependents_1','Dependents_2','Dependents_3','Education_Not'\\\n",
    "                 ,'Self_Employed_Yes','Property_Area_Semiurban','Property_Area_Urban','Loan_Status_Y']\n",
    "category_loan = pd.DataFrame(transform, columns=dummy_variable)\n",
    "\n",
    "display(category_loan)\n"
   ]
  },
  {
   "cell_type": "markdown",
   "id": "4788cfc7",
   "metadata": {},
   "source": [
    "เมื่อทำOneHotEncoder แล้วจะสังเกตว่า ข้อมูลของแต่ละตัวแปรถูกเปลี่ยนเป็นตัวเลข 1 และ 0 ซึ่ง 1 แสดงถึงการมีค่าของตัวแปรนั้นอยู่, 0 คือ ไม่มีค่าของตัวแปรนั้นอยู่ และcolumns ได้เปลี่ยนเป็น dummy variable ซึ่งเป็นตัวแปรที่การมีอยู่ของค่าของแต่ละตัวแปร ทำให้จำนวนcolumn เพิ่มขึ้นมาจากเดิม เพราะ บางตัวแปรมีคุณลักษณะ/unique value ที่มากกว่า 2 ค่า "
   ]
  },
  {
   "cell_type": "markdown",
   "id": "41c00df9",
   "metadata": {},
   "source": [
    "* **StandardScaler** จะrescaleหรือเปลี่ยนแปลงค่าของข้อมูลให้อยู่ในหน่วยมาตรฐานเดียวกัน เนื่องจากข้อมูลมีหน่วยที่แตกต่างกัน การวัดความสัมพันธ์ของข้อมูลจะวัดได้ยาก เช่น บางตัวแปรอาจมีผลกระทบมากกว่าบางตัวแปรเกินความเป็นจริงเมื่อหน่วยของข้อมูลแตกต่างกัน     \n",
    "การStandardScaler จะทำให้ผลกระทบของแต่ละตัวแปรอยู่ในหน่วยเดียวกันเห็นความแตกต่างของผลกระทบได้ชัดเจนมากขึ้น โดยจะทำให้varianceมีค่าเป็น1หรือใกล้เคียง Meanมีค่าเป็น0หรือใกล้เคียง เราเรียกวิธีแบบนี้ว่าNormalizeข้อมูล วิธีการนี้จึงช่วยให้ Machine Learning Mode เรียนรู้ข้อมูลได้ราบเรียบขึ้น ทำงานได้มีประสิทธิภาพมากขึ้นได้ "
   ]
  },
  {
   "cell_type": "code",
   "execution_count": 25,
   "id": "ccf04ccd",
   "metadata": {},
   "outputs": [
    {
     "data": {
      "text/html": [
       "<div>\n",
       "<style scoped>\n",
       "    .dataframe tbody tr th:only-of-type {\n",
       "        vertical-align: middle;\n",
       "    }\n",
       "\n",
       "    .dataframe tbody tr th {\n",
       "        vertical-align: top;\n",
       "    }\n",
       "\n",
       "    .dataframe thead th {\n",
       "        text-align: right;\n",
       "    }\n",
       "</style>\n",
       "<table border=\"1\" class=\"dataframe\">\n",
       "  <thead>\n",
       "    <tr style=\"text-align: right;\">\n",
       "      <th></th>\n",
       "      <th>ApplicantIncome</th>\n",
       "      <th>CoapplicantIncome</th>\n",
       "      <th>LoanAmount</th>\n",
       "      <th>Loan_Amount_Term</th>\n",
       "      <th>Credit_History</th>\n",
       "    </tr>\n",
       "  </thead>\n",
       "  <tbody>\n",
       "    <tr>\n",
       "      <th>0</th>\n",
       "      <td>0.269613</td>\n",
       "      <td>-0.821972</td>\n",
       "      <td>-0.004216</td>\n",
       "      <td>0.277113</td>\n",
       "      <td>0.402561</td>\n",
       "    </tr>\n",
       "    <tr>\n",
       "      <th>1</th>\n",
       "      <td>-0.093672</td>\n",
       "      <td>0.026461</td>\n",
       "      <td>-0.199848</td>\n",
       "      <td>0.277113</td>\n",
       "      <td>0.402561</td>\n",
       "    </tr>\n",
       "    <tr>\n",
       "      <th>2</th>\n",
       "      <td>-0.547921</td>\n",
       "      <td>-0.821972</td>\n",
       "      <td>-0.996664</td>\n",
       "      <td>0.277113</td>\n",
       "      <td>0.402561</td>\n",
       "    </tr>\n",
       "    <tr>\n",
       "      <th>3</th>\n",
       "      <td>-0.667581</td>\n",
       "      <td>0.504690</td>\n",
       "      <td>-0.302663</td>\n",
       "      <td>0.277113</td>\n",
       "      <td>0.402561</td>\n",
       "    </tr>\n",
       "    <tr>\n",
       "      <th>4</th>\n",
       "      <td>0.312943</td>\n",
       "      <td>-0.821972</td>\n",
       "      <td>-0.032773</td>\n",
       "      <td>0.277113</td>\n",
       "      <td>0.402561</td>\n",
       "    </tr>\n",
       "    <tr>\n",
       "      <th>...</th>\n",
       "      <td>...</td>\n",
       "      <td>...</td>\n",
       "      <td>...</td>\n",
       "      <td>...</td>\n",
       "      <td>...</td>\n",
       "    </tr>\n",
       "    <tr>\n",
       "      <th>583</th>\n",
       "      <td>-0.576617</td>\n",
       "      <td>-0.821972</td>\n",
       "      <td>-0.932405</td>\n",
       "      <td>0.277113</td>\n",
       "      <td>0.402561</td>\n",
       "    </tr>\n",
       "    <tr>\n",
       "      <th>584</th>\n",
       "      <td>-0.230549</td>\n",
       "      <td>-0.821972</td>\n",
       "      <td>-1.330813</td>\n",
       "      <td>-2.552535</td>\n",
       "      <td>0.402561</td>\n",
       "    </tr>\n",
       "    <tr>\n",
       "      <th>585</th>\n",
       "      <td>0.907513</td>\n",
       "      <td>-0.686943</td>\n",
       "      <td>1.406638</td>\n",
       "      <td>0.277113</td>\n",
       "      <td>0.402561</td>\n",
       "    </tr>\n",
       "    <tr>\n",
       "      <th>586</th>\n",
       "      <td>0.767193</td>\n",
       "      <td>-0.821972</td>\n",
       "      <td>0.558413</td>\n",
       "      <td>0.277113</td>\n",
       "      <td>0.402561</td>\n",
       "    </tr>\n",
       "    <tr>\n",
       "      <th>587</th>\n",
       "      <td>-0.093672</td>\n",
       "      <td>-0.821972</td>\n",
       "      <td>-0.135588</td>\n",
       "      <td>0.277113</td>\n",
       "      <td>-2.484096</td>\n",
       "    </tr>\n",
       "  </tbody>\n",
       "</table>\n",
       "<p>588 rows × 5 columns</p>\n",
       "</div>"
      ],
      "text/plain": [
       "     ApplicantIncome  CoapplicantIncome  LoanAmount  Loan_Amount_Term  \\\n",
       "0           0.269613          -0.821972   -0.004216          0.277113   \n",
       "1          -0.093672           0.026461   -0.199848          0.277113   \n",
       "2          -0.547921          -0.821972   -0.996664          0.277113   \n",
       "3          -0.667581           0.504690   -0.302663          0.277113   \n",
       "4           0.312943          -0.821972   -0.032773          0.277113   \n",
       "..               ...                ...         ...               ...   \n",
       "583        -0.576617          -0.821972   -0.932405          0.277113   \n",
       "584        -0.230549          -0.821972   -1.330813         -2.552535   \n",
       "585         0.907513          -0.686943    1.406638          0.277113   \n",
       "586         0.767193          -0.821972    0.558413          0.277113   \n",
       "587        -0.093672          -0.821972   -0.135588          0.277113   \n",
       "\n",
       "     Credit_History  \n",
       "0          0.402561  \n",
       "1          0.402561  \n",
       "2          0.402561  \n",
       "3          0.402561  \n",
       "4          0.402561  \n",
       "..              ...  \n",
       "583        0.402561  \n",
       "584        0.402561  \n",
       "585        0.402561  \n",
       "586        0.402561  \n",
       "587       -2.484096  \n",
       "\n",
       "[588 rows x 5 columns]"
      ]
     },
     "metadata": {},
     "output_type": "display_data"
    }
   ],
   "source": [
    "# preprocessing StandardScaler()\n",
    "from sklearn.preprocessing import StandardScaler\n",
    "numeric_col = ['ApplicantIncome','CoapplicantIncome','LoanAmount','Loan_Amount_Term','Credit_History']\n",
    "scaler = StandardScaler()\n",
    "transforms = scaler.fit_transform(loan[numeric_col])\n",
    "\n",
    "# create new dataframe of numerical data and show transform data\n",
    "numeric_loan = pd.DataFrame(transforms,columns=numeric_col)\n",
    "display(numeric_loan)"
   ]
  },
  {
   "cell_type": "markdown",
   "id": "12e4d85c",
   "metadata": {},
   "source": [
    "หลังจากทำpreprocessing เสร็จแล้วเราจะได้ dataframeใหม่ที่ผ่านการแปลงข้อมูลเรียบร้อยแล้ว ทั้งnumeric dataframe และ categorical dataframe ก่อนจะนำข้อมูลไปสร้างโมเดลได้ เราต้องรวมทั้งสองdataframeเข้าด้วยกันก่อน ผ่านการconcatenate ของlibrary pandas จึงได้ข้อมูลที่พร้อมใช้งานในการสร้างโมเดล"
   ]
  },
  {
   "cell_type": "code",
   "execution_count": 26,
   "id": "1f62aefe",
   "metadata": {
    "scrolled": false
   },
   "outputs": [
    {
     "data": {
      "text/html": [
       "<div>\n",
       "<style scoped>\n",
       "    .dataframe tbody tr th:only-of-type {\n",
       "        vertical-align: middle;\n",
       "    }\n",
       "\n",
       "    .dataframe tbody tr th {\n",
       "        vertical-align: top;\n",
       "    }\n",
       "\n",
       "    .dataframe thead th {\n",
       "        text-align: right;\n",
       "    }\n",
       "</style>\n",
       "<table border=\"1\" class=\"dataframe\">\n",
       "  <thead>\n",
       "    <tr style=\"text-align: right;\">\n",
       "      <th></th>\n",
       "      <th>ApplicantIncome</th>\n",
       "      <th>CoapplicantIncome</th>\n",
       "      <th>LoanAmount</th>\n",
       "      <th>Loan_Amount_Term</th>\n",
       "      <th>Credit_History</th>\n",
       "      <th>Gender_Male</th>\n",
       "      <th>Married_Yes</th>\n",
       "      <th>Dependents_1</th>\n",
       "      <th>Dependents_2</th>\n",
       "      <th>Dependents_3</th>\n",
       "      <th>Education_Not</th>\n",
       "      <th>Self_Employed_Yes</th>\n",
       "      <th>Property_Area_Semiurban</th>\n",
       "      <th>Property_Area_Urban</th>\n",
       "      <th>Loan_Status_Y</th>\n",
       "    </tr>\n",
       "  </thead>\n",
       "  <tbody>\n",
       "    <tr>\n",
       "      <th>0</th>\n",
       "      <td>0.269613</td>\n",
       "      <td>-0.821972</td>\n",
       "      <td>-0.004216</td>\n",
       "      <td>0.277113</td>\n",
       "      <td>0.402561</td>\n",
       "      <td>1.0</td>\n",
       "      <td>0.0</td>\n",
       "      <td>0.0</td>\n",
       "      <td>0.0</td>\n",
       "      <td>0.0</td>\n",
       "      <td>0.0</td>\n",
       "      <td>0.0</td>\n",
       "      <td>0.0</td>\n",
       "      <td>1.0</td>\n",
       "      <td>1.0</td>\n",
       "    </tr>\n",
       "    <tr>\n",
       "      <th>1</th>\n",
       "      <td>-0.093672</td>\n",
       "      <td>0.026461</td>\n",
       "      <td>-0.199848</td>\n",
       "      <td>0.277113</td>\n",
       "      <td>0.402561</td>\n",
       "      <td>1.0</td>\n",
       "      <td>1.0</td>\n",
       "      <td>1.0</td>\n",
       "      <td>0.0</td>\n",
       "      <td>0.0</td>\n",
       "      <td>0.0</td>\n",
       "      <td>0.0</td>\n",
       "      <td>0.0</td>\n",
       "      <td>0.0</td>\n",
       "      <td>0.0</td>\n",
       "    </tr>\n",
       "    <tr>\n",
       "      <th>2</th>\n",
       "      <td>-0.547921</td>\n",
       "      <td>-0.821972</td>\n",
       "      <td>-0.996664</td>\n",
       "      <td>0.277113</td>\n",
       "      <td>0.402561</td>\n",
       "      <td>1.0</td>\n",
       "      <td>1.0</td>\n",
       "      <td>0.0</td>\n",
       "      <td>0.0</td>\n",
       "      <td>0.0</td>\n",
       "      <td>0.0</td>\n",
       "      <td>1.0</td>\n",
       "      <td>0.0</td>\n",
       "      <td>1.0</td>\n",
       "      <td>1.0</td>\n",
       "    </tr>\n",
       "    <tr>\n",
       "      <th>3</th>\n",
       "      <td>-0.667581</td>\n",
       "      <td>0.504690</td>\n",
       "      <td>-0.302663</td>\n",
       "      <td>0.277113</td>\n",
       "      <td>0.402561</td>\n",
       "      <td>1.0</td>\n",
       "      <td>1.0</td>\n",
       "      <td>0.0</td>\n",
       "      <td>0.0</td>\n",
       "      <td>0.0</td>\n",
       "      <td>1.0</td>\n",
       "      <td>0.0</td>\n",
       "      <td>0.0</td>\n",
       "      <td>1.0</td>\n",
       "      <td>1.0</td>\n",
       "    </tr>\n",
       "    <tr>\n",
       "      <th>4</th>\n",
       "      <td>0.312943</td>\n",
       "      <td>-0.821972</td>\n",
       "      <td>-0.032773</td>\n",
       "      <td>0.277113</td>\n",
       "      <td>0.402561</td>\n",
       "      <td>1.0</td>\n",
       "      <td>0.0</td>\n",
       "      <td>0.0</td>\n",
       "      <td>0.0</td>\n",
       "      <td>0.0</td>\n",
       "      <td>0.0</td>\n",
       "      <td>0.0</td>\n",
       "      <td>0.0</td>\n",
       "      <td>1.0</td>\n",
       "      <td>1.0</td>\n",
       "    </tr>\n",
       "    <tr>\n",
       "      <th>...</th>\n",
       "      <td>...</td>\n",
       "      <td>...</td>\n",
       "      <td>...</td>\n",
       "      <td>...</td>\n",
       "      <td>...</td>\n",
       "      <td>...</td>\n",
       "      <td>...</td>\n",
       "      <td>...</td>\n",
       "      <td>...</td>\n",
       "      <td>...</td>\n",
       "      <td>...</td>\n",
       "      <td>...</td>\n",
       "      <td>...</td>\n",
       "      <td>...</td>\n",
       "      <td>...</td>\n",
       "    </tr>\n",
       "    <tr>\n",
       "      <th>583</th>\n",
       "      <td>-0.576617</td>\n",
       "      <td>-0.821972</td>\n",
       "      <td>-0.932405</td>\n",
       "      <td>0.277113</td>\n",
       "      <td>0.402561</td>\n",
       "      <td>0.0</td>\n",
       "      <td>0.0</td>\n",
       "      <td>0.0</td>\n",
       "      <td>0.0</td>\n",
       "      <td>0.0</td>\n",
       "      <td>0.0</td>\n",
       "      <td>0.0</td>\n",
       "      <td>0.0</td>\n",
       "      <td>0.0</td>\n",
       "      <td>1.0</td>\n",
       "    </tr>\n",
       "    <tr>\n",
       "      <th>584</th>\n",
       "      <td>-0.230549</td>\n",
       "      <td>-0.821972</td>\n",
       "      <td>-1.330813</td>\n",
       "      <td>-2.552535</td>\n",
       "      <td>0.402561</td>\n",
       "      <td>1.0</td>\n",
       "      <td>1.0</td>\n",
       "      <td>0.0</td>\n",
       "      <td>0.0</td>\n",
       "      <td>1.0</td>\n",
       "      <td>0.0</td>\n",
       "      <td>0.0</td>\n",
       "      <td>0.0</td>\n",
       "      <td>0.0</td>\n",
       "      <td>1.0</td>\n",
       "    </tr>\n",
       "    <tr>\n",
       "      <th>585</th>\n",
       "      <td>0.907513</td>\n",
       "      <td>-0.686943</td>\n",
       "      <td>1.406638</td>\n",
       "      <td>0.277113</td>\n",
       "      <td>0.402561</td>\n",
       "      <td>1.0</td>\n",
       "      <td>1.0</td>\n",
       "      <td>1.0</td>\n",
       "      <td>0.0</td>\n",
       "      <td>0.0</td>\n",
       "      <td>0.0</td>\n",
       "      <td>0.0</td>\n",
       "      <td>0.0</td>\n",
       "      <td>1.0</td>\n",
       "      <td>1.0</td>\n",
       "    </tr>\n",
       "    <tr>\n",
       "      <th>586</th>\n",
       "      <td>0.767193</td>\n",
       "      <td>-0.821972</td>\n",
       "      <td>0.558413</td>\n",
       "      <td>0.277113</td>\n",
       "      <td>0.402561</td>\n",
       "      <td>1.0</td>\n",
       "      <td>1.0</td>\n",
       "      <td>0.0</td>\n",
       "      <td>1.0</td>\n",
       "      <td>0.0</td>\n",
       "      <td>0.0</td>\n",
       "      <td>0.0</td>\n",
       "      <td>0.0</td>\n",
       "      <td>1.0</td>\n",
       "      <td>1.0</td>\n",
       "    </tr>\n",
       "    <tr>\n",
       "      <th>587</th>\n",
       "      <td>-0.093672</td>\n",
       "      <td>-0.821972</td>\n",
       "      <td>-0.135588</td>\n",
       "      <td>0.277113</td>\n",
       "      <td>-2.484096</td>\n",
       "      <td>0.0</td>\n",
       "      <td>0.0</td>\n",
       "      <td>0.0</td>\n",
       "      <td>0.0</td>\n",
       "      <td>0.0</td>\n",
       "      <td>0.0</td>\n",
       "      <td>1.0</td>\n",
       "      <td>1.0</td>\n",
       "      <td>0.0</td>\n",
       "      <td>0.0</td>\n",
       "    </tr>\n",
       "  </tbody>\n",
       "</table>\n",
       "<p>588 rows × 15 columns</p>\n",
       "</div>"
      ],
      "text/plain": [
       "     ApplicantIncome  CoapplicantIncome  LoanAmount  Loan_Amount_Term  \\\n",
       "0           0.269613          -0.821972   -0.004216          0.277113   \n",
       "1          -0.093672           0.026461   -0.199848          0.277113   \n",
       "2          -0.547921          -0.821972   -0.996664          0.277113   \n",
       "3          -0.667581           0.504690   -0.302663          0.277113   \n",
       "4           0.312943          -0.821972   -0.032773          0.277113   \n",
       "..               ...                ...         ...               ...   \n",
       "583        -0.576617          -0.821972   -0.932405          0.277113   \n",
       "584        -0.230549          -0.821972   -1.330813         -2.552535   \n",
       "585         0.907513          -0.686943    1.406638          0.277113   \n",
       "586         0.767193          -0.821972    0.558413          0.277113   \n",
       "587        -0.093672          -0.821972   -0.135588          0.277113   \n",
       "\n",
       "     Credit_History  Gender_Male  Married_Yes  Dependents_1  Dependents_2  \\\n",
       "0          0.402561          1.0          0.0           0.0           0.0   \n",
       "1          0.402561          1.0          1.0           1.0           0.0   \n",
       "2          0.402561          1.0          1.0           0.0           0.0   \n",
       "3          0.402561          1.0          1.0           0.0           0.0   \n",
       "4          0.402561          1.0          0.0           0.0           0.0   \n",
       "..              ...          ...          ...           ...           ...   \n",
       "583        0.402561          0.0          0.0           0.0           0.0   \n",
       "584        0.402561          1.0          1.0           0.0           0.0   \n",
       "585        0.402561          1.0          1.0           1.0           0.0   \n",
       "586        0.402561          1.0          1.0           0.0           1.0   \n",
       "587       -2.484096          0.0          0.0           0.0           0.0   \n",
       "\n",
       "     Dependents_3  Education_Not  Self_Employed_Yes  Property_Area_Semiurban  \\\n",
       "0             0.0            0.0                0.0                      0.0   \n",
       "1             0.0            0.0                0.0                      0.0   \n",
       "2             0.0            0.0                1.0                      0.0   \n",
       "3             0.0            1.0                0.0                      0.0   \n",
       "4             0.0            0.0                0.0                      0.0   \n",
       "..            ...            ...                ...                      ...   \n",
       "583           0.0            0.0                0.0                      0.0   \n",
       "584           1.0            0.0                0.0                      0.0   \n",
       "585           0.0            0.0                0.0                      0.0   \n",
       "586           0.0            0.0                0.0                      0.0   \n",
       "587           0.0            0.0                1.0                      1.0   \n",
       "\n",
       "     Property_Area_Urban  Loan_Status_Y  \n",
       "0                    1.0            1.0  \n",
       "1                    0.0            0.0  \n",
       "2                    1.0            1.0  \n",
       "3                    1.0            1.0  \n",
       "4                    1.0            1.0  \n",
       "..                   ...            ...  \n",
       "583                  0.0            1.0  \n",
       "584                  0.0            1.0  \n",
       "585                  1.0            1.0  \n",
       "586                  1.0            1.0  \n",
       "587                  0.0            0.0  \n",
       "\n",
       "[588 rows x 15 columns]"
      ]
     },
     "metadata": {},
     "output_type": "display_data"
    }
   ],
   "source": [
    "#concatenate columns to create new loan dataframe\n",
    "new_loan = pd.concat([numeric_loan, category_loan], axis=1)\n",
    "display(new_loan)"
   ]
  },
  {
   "cell_type": "markdown",
   "id": "e20601bd",
   "metadata": {},
   "source": [
    "แล้วแบ่งข้อมูลเป็นฝั่งข้อมูลของตัวแปรอิสระ(feature data) อยู่ในรูป X dataframe และ ฝั่งของตัวแปรตาม(target data) อยู่ในรูปของ Y dataframe เผื่อกำหนดให้โมเดลรู้ว่า ตัวแปรไหนเป็นตัวแปรอิสระและตัวแปรตาม "
   ]
  },
  {
   "cell_type": "code",
   "execution_count": 27,
   "id": "1f9378c4",
   "metadata": {},
   "outputs": [
    {
     "data": {
      "text/html": [
       "<div>\n",
       "<style scoped>\n",
       "    .dataframe tbody tr th:only-of-type {\n",
       "        vertical-align: middle;\n",
       "    }\n",
       "\n",
       "    .dataframe tbody tr th {\n",
       "        vertical-align: top;\n",
       "    }\n",
       "\n",
       "    .dataframe thead th {\n",
       "        text-align: right;\n",
       "    }\n",
       "</style>\n",
       "<table border=\"1\" class=\"dataframe\">\n",
       "  <thead>\n",
       "    <tr style=\"text-align: right;\">\n",
       "      <th></th>\n",
       "      <th>ApplicantIncome</th>\n",
       "      <th>CoapplicantIncome</th>\n",
       "      <th>LoanAmount</th>\n",
       "      <th>Loan_Amount_Term</th>\n",
       "      <th>Credit_History</th>\n",
       "      <th>Gender_Male</th>\n",
       "      <th>Married_Yes</th>\n",
       "      <th>Dependents_1</th>\n",
       "      <th>Dependents_2</th>\n",
       "      <th>Dependents_3</th>\n",
       "      <th>Education_Not</th>\n",
       "      <th>Self_Employed_Yes</th>\n",
       "      <th>Property_Area_Semiurban</th>\n",
       "      <th>Property_Area_Urban</th>\n",
       "    </tr>\n",
       "  </thead>\n",
       "  <tbody>\n",
       "    <tr>\n",
       "      <th>0</th>\n",
       "      <td>0.269613</td>\n",
       "      <td>-0.821972</td>\n",
       "      <td>-0.004216</td>\n",
       "      <td>0.277113</td>\n",
       "      <td>0.402561</td>\n",
       "      <td>1.0</td>\n",
       "      <td>0.0</td>\n",
       "      <td>0.0</td>\n",
       "      <td>0.0</td>\n",
       "      <td>0.0</td>\n",
       "      <td>0.0</td>\n",
       "      <td>0.0</td>\n",
       "      <td>0.0</td>\n",
       "      <td>1.0</td>\n",
       "    </tr>\n",
       "    <tr>\n",
       "      <th>1</th>\n",
       "      <td>-0.093672</td>\n",
       "      <td>0.026461</td>\n",
       "      <td>-0.199848</td>\n",
       "      <td>0.277113</td>\n",
       "      <td>0.402561</td>\n",
       "      <td>1.0</td>\n",
       "      <td>1.0</td>\n",
       "      <td>1.0</td>\n",
       "      <td>0.0</td>\n",
       "      <td>0.0</td>\n",
       "      <td>0.0</td>\n",
       "      <td>0.0</td>\n",
       "      <td>0.0</td>\n",
       "      <td>0.0</td>\n",
       "    </tr>\n",
       "    <tr>\n",
       "      <th>2</th>\n",
       "      <td>-0.547921</td>\n",
       "      <td>-0.821972</td>\n",
       "      <td>-0.996664</td>\n",
       "      <td>0.277113</td>\n",
       "      <td>0.402561</td>\n",
       "      <td>1.0</td>\n",
       "      <td>1.0</td>\n",
       "      <td>0.0</td>\n",
       "      <td>0.0</td>\n",
       "      <td>0.0</td>\n",
       "      <td>0.0</td>\n",
       "      <td>1.0</td>\n",
       "      <td>0.0</td>\n",
       "      <td>1.0</td>\n",
       "    </tr>\n",
       "    <tr>\n",
       "      <th>3</th>\n",
       "      <td>-0.667581</td>\n",
       "      <td>0.504690</td>\n",
       "      <td>-0.302663</td>\n",
       "      <td>0.277113</td>\n",
       "      <td>0.402561</td>\n",
       "      <td>1.0</td>\n",
       "      <td>1.0</td>\n",
       "      <td>0.0</td>\n",
       "      <td>0.0</td>\n",
       "      <td>0.0</td>\n",
       "      <td>1.0</td>\n",
       "      <td>0.0</td>\n",
       "      <td>0.0</td>\n",
       "      <td>1.0</td>\n",
       "    </tr>\n",
       "    <tr>\n",
       "      <th>4</th>\n",
       "      <td>0.312943</td>\n",
       "      <td>-0.821972</td>\n",
       "      <td>-0.032773</td>\n",
       "      <td>0.277113</td>\n",
       "      <td>0.402561</td>\n",
       "      <td>1.0</td>\n",
       "      <td>0.0</td>\n",
       "      <td>0.0</td>\n",
       "      <td>0.0</td>\n",
       "      <td>0.0</td>\n",
       "      <td>0.0</td>\n",
       "      <td>0.0</td>\n",
       "      <td>0.0</td>\n",
       "      <td>1.0</td>\n",
       "    </tr>\n",
       "    <tr>\n",
       "      <th>...</th>\n",
       "      <td>...</td>\n",
       "      <td>...</td>\n",
       "      <td>...</td>\n",
       "      <td>...</td>\n",
       "      <td>...</td>\n",
       "      <td>...</td>\n",
       "      <td>...</td>\n",
       "      <td>...</td>\n",
       "      <td>...</td>\n",
       "      <td>...</td>\n",
       "      <td>...</td>\n",
       "      <td>...</td>\n",
       "      <td>...</td>\n",
       "      <td>...</td>\n",
       "    </tr>\n",
       "    <tr>\n",
       "      <th>583</th>\n",
       "      <td>-0.576617</td>\n",
       "      <td>-0.821972</td>\n",
       "      <td>-0.932405</td>\n",
       "      <td>0.277113</td>\n",
       "      <td>0.402561</td>\n",
       "      <td>0.0</td>\n",
       "      <td>0.0</td>\n",
       "      <td>0.0</td>\n",
       "      <td>0.0</td>\n",
       "      <td>0.0</td>\n",
       "      <td>0.0</td>\n",
       "      <td>0.0</td>\n",
       "      <td>0.0</td>\n",
       "      <td>0.0</td>\n",
       "    </tr>\n",
       "    <tr>\n",
       "      <th>584</th>\n",
       "      <td>-0.230549</td>\n",
       "      <td>-0.821972</td>\n",
       "      <td>-1.330813</td>\n",
       "      <td>-2.552535</td>\n",
       "      <td>0.402561</td>\n",
       "      <td>1.0</td>\n",
       "      <td>1.0</td>\n",
       "      <td>0.0</td>\n",
       "      <td>0.0</td>\n",
       "      <td>1.0</td>\n",
       "      <td>0.0</td>\n",
       "      <td>0.0</td>\n",
       "      <td>0.0</td>\n",
       "      <td>0.0</td>\n",
       "    </tr>\n",
       "    <tr>\n",
       "      <th>585</th>\n",
       "      <td>0.907513</td>\n",
       "      <td>-0.686943</td>\n",
       "      <td>1.406638</td>\n",
       "      <td>0.277113</td>\n",
       "      <td>0.402561</td>\n",
       "      <td>1.0</td>\n",
       "      <td>1.0</td>\n",
       "      <td>1.0</td>\n",
       "      <td>0.0</td>\n",
       "      <td>0.0</td>\n",
       "      <td>0.0</td>\n",
       "      <td>0.0</td>\n",
       "      <td>0.0</td>\n",
       "      <td>1.0</td>\n",
       "    </tr>\n",
       "    <tr>\n",
       "      <th>586</th>\n",
       "      <td>0.767193</td>\n",
       "      <td>-0.821972</td>\n",
       "      <td>0.558413</td>\n",
       "      <td>0.277113</td>\n",
       "      <td>0.402561</td>\n",
       "      <td>1.0</td>\n",
       "      <td>1.0</td>\n",
       "      <td>0.0</td>\n",
       "      <td>1.0</td>\n",
       "      <td>0.0</td>\n",
       "      <td>0.0</td>\n",
       "      <td>0.0</td>\n",
       "      <td>0.0</td>\n",
       "      <td>1.0</td>\n",
       "    </tr>\n",
       "    <tr>\n",
       "      <th>587</th>\n",
       "      <td>-0.093672</td>\n",
       "      <td>-0.821972</td>\n",
       "      <td>-0.135588</td>\n",
       "      <td>0.277113</td>\n",
       "      <td>-2.484096</td>\n",
       "      <td>0.0</td>\n",
       "      <td>0.0</td>\n",
       "      <td>0.0</td>\n",
       "      <td>0.0</td>\n",
       "      <td>0.0</td>\n",
       "      <td>0.0</td>\n",
       "      <td>1.0</td>\n",
       "      <td>1.0</td>\n",
       "      <td>0.0</td>\n",
       "    </tr>\n",
       "  </tbody>\n",
       "</table>\n",
       "<p>588 rows × 14 columns</p>\n",
       "</div>"
      ],
      "text/plain": [
       "     ApplicantIncome  CoapplicantIncome  LoanAmount  Loan_Amount_Term  \\\n",
       "0           0.269613          -0.821972   -0.004216          0.277113   \n",
       "1          -0.093672           0.026461   -0.199848          0.277113   \n",
       "2          -0.547921          -0.821972   -0.996664          0.277113   \n",
       "3          -0.667581           0.504690   -0.302663          0.277113   \n",
       "4           0.312943          -0.821972   -0.032773          0.277113   \n",
       "..               ...                ...         ...               ...   \n",
       "583        -0.576617          -0.821972   -0.932405          0.277113   \n",
       "584        -0.230549          -0.821972   -1.330813         -2.552535   \n",
       "585         0.907513          -0.686943    1.406638          0.277113   \n",
       "586         0.767193          -0.821972    0.558413          0.277113   \n",
       "587        -0.093672          -0.821972   -0.135588          0.277113   \n",
       "\n",
       "     Credit_History  Gender_Male  Married_Yes  Dependents_1  Dependents_2  \\\n",
       "0          0.402561          1.0          0.0           0.0           0.0   \n",
       "1          0.402561          1.0          1.0           1.0           0.0   \n",
       "2          0.402561          1.0          1.0           0.0           0.0   \n",
       "3          0.402561          1.0          1.0           0.0           0.0   \n",
       "4          0.402561          1.0          0.0           0.0           0.0   \n",
       "..              ...          ...          ...           ...           ...   \n",
       "583        0.402561          0.0          0.0           0.0           0.0   \n",
       "584        0.402561          1.0          1.0           0.0           0.0   \n",
       "585        0.402561          1.0          1.0           1.0           0.0   \n",
       "586        0.402561          1.0          1.0           0.0           1.0   \n",
       "587       -2.484096          0.0          0.0           0.0           0.0   \n",
       "\n",
       "     Dependents_3  Education_Not  Self_Employed_Yes  Property_Area_Semiurban  \\\n",
       "0             0.0            0.0                0.0                      0.0   \n",
       "1             0.0            0.0                0.0                      0.0   \n",
       "2             0.0            0.0                1.0                      0.0   \n",
       "3             0.0            1.0                0.0                      0.0   \n",
       "4             0.0            0.0                0.0                      0.0   \n",
       "..            ...            ...                ...                      ...   \n",
       "583           0.0            0.0                0.0                      0.0   \n",
       "584           1.0            0.0                0.0                      0.0   \n",
       "585           0.0            0.0                0.0                      0.0   \n",
       "586           0.0            0.0                0.0                      0.0   \n",
       "587           0.0            0.0                1.0                      1.0   \n",
       "\n",
       "     Property_Area_Urban  \n",
       "0                    1.0  \n",
       "1                    0.0  \n",
       "2                    1.0  \n",
       "3                    1.0  \n",
       "4                    1.0  \n",
       "..                   ...  \n",
       "583                  0.0  \n",
       "584                  0.0  \n",
       "585                  1.0  \n",
       "586                  1.0  \n",
       "587                  0.0  \n",
       "\n",
       "[588 rows x 14 columns]"
      ]
     },
     "metadata": {},
     "output_type": "display_data"
    },
    {
     "data": {
      "text/plain": [
       "0      1.0\n",
       "1      0.0\n",
       "2      1.0\n",
       "3      1.0\n",
       "4      1.0\n",
       "      ... \n",
       "583    1.0\n",
       "584    1.0\n",
       "585    1.0\n",
       "586    1.0\n",
       "587    0.0\n",
       "Name: Loan_Status_Y, Length: 588, dtype: float64"
      ]
     },
     "metadata": {},
     "output_type": "display_data"
    }
   ],
   "source": [
    "# select feature data and target data\n",
    "X = new_loan.drop(columns=['Loan_Status_Y'])\n",
    "display(X)\n",
    "\n",
    "y = new_loan['Loan_Status_Y']\n",
    "display(y)"
   ]
  },
  {
   "cell_type": "markdown",
   "id": "455cb74f",
   "metadata": {},
   "source": [
    "### การสร้างโมเดล หรือ Modeling\n",
    "การสร้างโมเดลในการทำโปรเจคต่างๆนั้น ไม่มีใครสามารถบอกได้ว่า โมเดลอะไรเป็นโมเดลที่ดีที่สุดได้เลย ดังนั้นควรจะสร้างโมเดลหลายโมเดลแล้วมาเปรียบเทียบกัน เพื่อหาโมเดลที่ดีที่สุดที่ให้ผลลัพธ์ที่ดีที่สุด โดยวัดจากค่าความถูกต้องในการทำนายของข้อมูล โมเดลที่เราจะสร้างอยู่ในกลุ่มของ classification model โดยเราจะเลือกโมเดลที่เป็นที่นิยมหลักๆ 3 โมเดลในการทำนายการอนุมัติสินเชื่อนั่นก็คือ 1) LogisticRegression 2) DecisionTreeClassifier 3) RandomForestClassifier มีรายละเอียดและผลลัพธ์ของแต่ละโมเดลดังนี้"
   ]
  },
  {
   "cell_type": "markdown",
   "id": "edc5aa9d",
   "metadata": {},
   "source": [
    "### 1) LogisticRegression\n",
    "  \n",
    "เป็นnon-linear regression modelหนึ่งที่เหมาะกับการทำนายtarget variableที่มี 2 unique values      หรือ 2 classes ในที่นี้คือ การอนุมัติสินเชื่อและไม่อนุมัติสินเชื่อ มีการคำนวนค่าโดยใช้วิธี Maximum likelihood คือ การทำให้ค่าทำนายมีค่าใกล้ค่าจริงมากที่สุด ผลลัพธ์ที่แสดงออกมาจะอยู่ในรูปความน่าจะเป็น ในที่นี้เป็นโอกาสที่จะอนุมัติสินเชื่อสำเร็จ "
   ]
  },
  {
   "cell_type": "code",
   "execution_count": 28,
   "id": "c4748597",
   "metadata": {},
   "outputs": [],
   "source": [
    "#split train and test data from new_loan\n",
    "from sklearn.model_selection import train_test_split\n",
    "X_train, X_test, y_train, y_test = train_test_split(X, y, test_size=0.2, random_state=1)\n",
    "\n",
    "#train LogisticRegression model and predict\n",
    "from sklearn.linear_model import LogisticRegression\n",
    "logreg = LogisticRegression()\n",
    "logreg.fit(X_train, y_train)\n",
    "\n",
    "y_pred_logreg = logreg.predict(X_test)"
   ]
  },
  {
   "cell_type": "markdown",
   "id": "8e2b3816",
   "metadata": {},
   "source": [
    "### 2) DecisionTreeClassifier\n",
    "  \n",
    "เป็นโมเดลหนึ่งที่นิยมในการใช้ทำนายข้อมูลเชิงคุณภาพสามารถใช้กับtarget variableที่มีclassมากกว่า2ได้ หลักการทำงานจะไม่เป็นเชิงเส้นแต่จะสร้างเงื่อนไขในตัดสินใจการแบ่งข้อมูลแตกออกเป็นกิ่งๆ(node)เรื่อยๆจนสิ้นสุดเงื่อนไขสุดท้าย ลักษณะการตัดสินใจตามเงื่อนไขนี้คล้ายกับต้นไม้ จึงถูกเรียกว่า DecisionTree "
   ]
  },
  {
   "cell_type": "code",
   "execution_count": 29,
   "id": "a7cc55a5",
   "metadata": {},
   "outputs": [
    {
     "name": "stdout",
     "output_type": "stream",
     "text": [
      "[1. 1. 0. 1. 1. 1. 1. 0. 1. 1. 1. 1. 0. 1. 1. 1. 0. 1. 0. 1. 1. 1. 1. 1.\n",
      " 0. 0. 1. 1. 1. 1. 0. 1. 1. 1. 1. 1. 1. 1. 1. 1. 0. 1. 1. 1. 1. 1. 1. 1.\n",
      " 1. 1. 1. 1. 1. 1. 1. 0. 0. 0. 0. 1. 1. 1. 1. 1. 0. 1. 0. 1. 0. 1. 1. 1.\n",
      " 1. 1. 1. 1. 1. 1. 1. 1. 1. 1. 0. 1. 0. 0. 1. 1. 1. 0. 1. 1. 0. 1. 1. 1.\n",
      " 1. 0. 0. 1. 1. 1. 1. 0. 0. 0. 0. 1. 1. 1. 1. 1. 1. 1. 1. 1. 1. 1.]\n"
     ]
    }
   ],
   "source": [
    "#train DecisionTreeClassifier model and predict\n",
    "from sklearn.tree import DecisionTreeClassifier\n",
    "dt = DecisionTreeClassifier(max_depth = 8, random_state=1)\n",
    "dt.fit(X_train,y_train)\n",
    "\n",
    "y_pred_dt = dt.predict(X_test)\n",
    "\n",
    "#show prediction value\n",
    "print(y_pred_dt)"
   ]
  },
  {
   "cell_type": "markdown",
   "id": "4b96e2da",
   "metadata": {},
   "source": [
    "เมื่อเรานำโมเดลมาทำนายแล้วจะแสดงผลของการทำงานตามค่าของtarget variableเป็น 1หรือ 0 ซึ่ง 1 หมายถึง การอนุมัติสินเชื่อ และ 0 หมายถึง การไม่อนุมัติสินเชื่อ ในการทำงานจริงเมื่อเราต้องการทำนายการอนุมัติสินเชื่อของลูกค้าก็เพียงข้อมูลของลูกค้าตามปัจจัยที่เรามีในโมเดลแล้วpredictออกมาเป็นค่าของtarget variable ตามที่กล่าวไปข้างต้น"
   ]
  },
  {
   "cell_type": "markdown",
   "id": "d5c7f3da",
   "metadata": {},
   "source": [
    "### 3) RandomForestClassifier\n",
    "  \n",
    "เป็นensemble learning modelซึ่งก็คือการสร้างโมเดลซ้ำหลายๆครั้งแล้วทำนายผลลัพธ์ที่ดีที่สุดจากหลายmodel RandomForestClassifierต่อยอดมาจาก DecisionTree โดยจะสุ่มข้อมูลจากtraing set มาทำ DecisionTree หลายๆครั้งและยังแบ่งfeatureของแต่ละmodelให้แตกต่างกันด้วย เพื่อให้ข้อมูลมีความหลากหลายและเป็นอิสระต่อกัน แล้วผลลัพธ์ที่ได้จะเกิดจากการรวมของหลายๆผลลัพธ์จากการtrain modelหลายๆครั้ง ในที่นี้เป็น Classifier มักจะใช้การโหวตผลลัพธ์ที่ทำนายได้มากที่สุดของหลายmodel ออกมาเป็นผลลัพธ์สุดท้าย "
   ]
  },
  {
   "cell_type": "code",
   "execution_count": 30,
   "id": "1acaf7cb",
   "metadata": {},
   "outputs": [],
   "source": [
    "#train RandomForestClassifier model and predict\n",
    "from sklearn.ensemble import RandomForestClassifier\n",
    "rf = RandomForestClassifier(n_estimators=100, max_depth = 10,random_state=1)\n",
    "rf.fit(X_train,y_train)\n",
    "\n",
    "y_pred_rf = rf.predict(X_test)\n"
   ]
  },
  {
   "cell_type": "markdown",
   "id": "0a1d39a3",
   "metadata": {},
   "source": [
    "## 5. ประเมินผลลัพธ์จากการทำนายสินเชื่อ และ หาปัจจัยที่สำคัญ\n",
    "หลังจากสร้างโมเดลในการทำนายการอนุมัติสินเชื่อทั้ง 3 โมเดลแล้วขั้นตอนต่อไปคือ การประเมินผลลัพธ์จากการทำนาย เพื่อที่จะทราบถึงความถูกต้องและแม่นยำในการทำนายข้อมูลของแต่ละโมเดล แล้วนำค่าความถูกต้องของแต่ละโมเดลมาเปรียบเทียบกัน เพื่อวิเคราะห์และตัดสินใจเลือกโมเดลที่ดีที่สุดในการทำนายการอนุมัติสินเชื่อ โดยการวัดผลของโมเดลที่เราจะใช้มีรายละเอียดดังนี้"
   ]
  },
  {
   "cell_type": "markdown",
   "id": "bdf8058b",
   "metadata": {},
   "source": [
    "หลังจากtrain model และ predictข้อมูลเรียบร้อยแล้วขั้นตอนต่อไป คือ การตรวจสอบความถูกต้องของข้อมูลโดยเราจะใช้   \n",
    "* accuracy scoreในการตรวจสอบความถูกต้องของข้อมูล เป็นการตรวจสอบข้อมูลโดยทั่วไปว่า ค่าที่ทำนายใกล้เคียงกับค่าจริงอยู่ที่%   \n",
    "* cross-validaition score การทำงานของวิธีนี้จะการแบ่งข้อมูลออกเป็นส่วนๆแล้วทำการtrain modelแล้วหาaccuracyแต่ละส่วนออกมาตามจำนวนสัดส่วนที่แบ่งหลังจากนั้น เราจะนำ accuracyแต่ละส่วนมาเฉลี่ยเป็นค่าaccuracyรวม วิธีนี้จะทำให้เรามั่นใจในค่าความถูกต้องได้เพราะข้อมูลถูกแบ่งเป็นหลายส่วนแล้วนำมาเฉลี่ยกันเป็นค่าaccuracyรวม\n",
    "* AUC score ย่อมาจาก Area under roc curve จะใช้วัดความถูกต้องในการทำนายของclassification model เสมือนเป็นaccuracyของclassification model จะมีค่าอยู่ระหว่าง 0-1 ยิ่งเข้าใกล้ 1 แปลว่าโมเดลในภาพรวมสามารถทำนาย y ได้ดีมาก"
   ]
  },
  {
   "cell_type": "markdown",
   "id": "c679e0e7",
   "metadata": {},
   "source": [
    "### ประเมินความถูกต้องของ LogisticRegression Model"
   ]
  },
  {
   "cell_type": "code",
   "execution_count": 31,
   "id": "3a45f55b",
   "metadata": {
    "scrolled": true
   },
   "outputs": [
    {
     "name": "stdout",
     "output_type": "stream",
     "text": [
      "LogisticRegression get accuracy score :   0.8135593220338984\n",
      "LogisticRegression get mean of cross-validation score :   0.8146405610753945\n",
      "LogisticRegression get AUC score :   0.7022357723577235\n"
     ]
    }
   ],
   "source": [
    "# examine accuracy score\n",
    "print('LogisticRegression get accuracy score :  ',logreg.score(X_test, y_test))\n",
    "\n",
    "#examine mean of cross-validation score \n",
    "from sklearn.model_selection import cross_val_score\n",
    "cv_results = cross_val_score(logreg, X, y, cv=10)\n",
    "print('LogisticRegression get mean of cross-validation score :  ', np.mean(cv_results))\n",
    "\n",
    "#examine area under roc curve (AUC score)\n",
    "from sklearn.metrics import roc_auc_score\n",
    "roc_score = roc_auc_score(y_test, y_pred_logreg)\n",
    "print('LogisticRegression get AUC score :  ', roc_score)"
   ]
  },
  {
   "cell_type": "markdown",
   "id": "d115f5f8",
   "metadata": {},
   "source": [
    "### ประเมินความถูกต้องของ DecisionTreeClassifier Model"
   ]
  },
  {
   "cell_type": "code",
   "execution_count": 32,
   "id": "518211cd",
   "metadata": {
    "scrolled": true
   },
   "outputs": [
    {
     "name": "stdout",
     "output_type": "stream",
     "text": [
      "DecisionTreeClassifier get accuracy score :   0.788135593220339\n",
      "DecisionTreeClassifier get mean of cross-validation score :   0.7822326125073058\n",
      "LogisticRegression get root AUC score :   0.7151084010840109\n"
     ]
    }
   ],
   "source": [
    "# examine accuracy score\n",
    "print('DecisionTreeClassifier get accuracy score :  ',dt.score(X_test, y_test))\n",
    "\n",
    "#examine mean of cross-validation score \n",
    "cv_results = cross_val_score(dt, X, y, cv=10)\n",
    "print('DecisionTreeClassifier get mean of cross-validation score :  ', np.mean(cv_results))\n",
    "\n",
    "#examine area under roc curve (AUC score)\n",
    "from sklearn.metrics import roc_auc_score\n",
    "roc_score = roc_auc_score(y_test, y_pred_dt)\n",
    "print('LogisticRegression get root AUC score :  ', roc_score)"
   ]
  },
  {
   "cell_type": "markdown",
   "id": "6472cde8",
   "metadata": {},
   "source": [
    "### ประเมินความถูกต้องของ RandomForestClassifier Model"
   ]
  },
  {
   "cell_type": "code",
   "execution_count": 33,
   "id": "27edca83",
   "metadata": {},
   "outputs": [
    {
     "name": "stdout",
     "output_type": "stream",
     "text": [
      "RandomForestClassifier get accuracy score :   0.8220338983050848\n",
      "RandomForestClassifier get mean of cross-validation score :   0.7992986557568674\n",
      "LogisticRegression get root AUC score :   0.7161246612466124\n"
     ]
    }
   ],
   "source": [
    "# examine accuracy score\n",
    "print('RandomForestClassifier get accuracy score :  ', rf.score(X_test, y_test))\n",
    "\n",
    "#examine mean of cross-validation score \n",
    "cv_results = cross_val_score(rf, X, y, cv=10)\n",
    "print('RandomForestClassifier get mean of cross-validation score :  ', np.mean(cv_results))\n",
    "\n",
    "#examine area under roc curve (AUC score)\n",
    "from sklearn.metrics import roc_auc_score\n",
    "roc_score = roc_auc_score(y_test, y_pred_rf)\n",
    "print('LogisticRegression get root AUC score :  ', roc_score)"
   ]
  },
  {
   "cell_type": "markdown",
   "id": "0d2cb9db",
   "metadata": {},
   "source": [
    "หลังจากประเมินความถูกต้องของแต่ละสมการแล้ว จะเห็นว่า   \n",
    "* ค่า accuracy score ของRandomForestClassifier Model มีค่ามากที่สุดอยู่ที่ 82.2% ขณะที่LogisticRegression Model และ DecisionTreeClassifier Model อยู่ที่ 81.4% และ 78.8% ตามลำดับ  \n",
    "\n",
    "* ค่า mean of cross-validation score ของLogisticRegression Model มีค่ามากที่สุดอยู่ที่ 81.4% ขณะที่DecisionTreeClassifier Model และ RandomForestClassifier อยู่ที่ 78.2% และ 79.9% ตามลำดับ  \n",
    "  \n",
    "* ค่า AUC score ของRandomForestClassifier Model มีค่ามากที่สุดอยู่ที่ 71.6% ขณะที่LogisticRegression Model และ RandomForestClassifier Model อยู่ที่ 71.5% และ 70.1% ตามลำดับ \n",
    "\n",
    "ดังนั้น เราควรเลือกModel ที่มีค่าความถูกต้องมากที่สุดจากการประเมินทั้ง 3 แบบ เป็นโมเดลที่ดีที่สุด นั่นก็คือ RandomForestClassifier Model ที่มีค่าaccuracy score และ AUC score มากที่สุด จากผลการประเมินความถูกต้อง accuracy score 81.4% สามารถอธิบายได้ว่า เมื่อทำการทำนายการอนุมัติสินเชื่อจะมีความถูกต้องในการทำนาย 81.4% และ มีความคลาดเคลื่อนหรือโอกาสที่จะทำนายผิดพลาดอยู่ประมาณ 18.3%    \n",
    "\n",
    "\n",
    "ทั้งนี้ เนื่องจากข้อมูลตั้งต้น(raw data) ของเราไม่ค่อยจะดี เพราะมี missing valueที่มากพอสมควร และ จำนวนข้อมูลที่ไม่มาก จึงส่งผลให้ค่าความถูกต้องอยู่ในระดับไม่สูงมาก และ ความคลาดเคลื่อนก็สูงในระดับหนึ่ง การจะแก้ไขปัญหานี้อาจจะไม่ได้อยู่ที่การเลือกโมเดลที่ดีกว่า หรือ clean/preprocessing ข้อมูลให้ดีขึ้น แต่เป็นการ นำเข้าข้อมูลที่มีคุณภาพมากขึ้น และ มีจำนวนข้อมูลที่มากขึ้น เป็นหนทางที่ทำให้ความถูกต้องและแม่นยำเพิ่มขึ้นได้ เพราะ ยิ่งโมเดลได้เรียนรู้ข้อมูลที่มากและมีคุณภาพ จะทำให้ประสิทธิภาพการทำนายของโมเดลเพิ่มได้ดีขึ้น"
   ]
  },
  {
   "cell_type": "markdown",
   "id": "94e05884",
   "metadata": {},
   "source": [
    "### หาปัจจัยที่สำคัญต่อ การอนุมัติสินเชื่อ (target variable)\n",
    "\n",
    "\n",
    "จากเป้าหมายทางธุรกิจที่ต้องการทราบถึง กลุ่มเป้าหมายที่ทำขออนุมัติสินเชื่อแล้วจะได้รับการอนุมัติ นำมาสู่เป้าหมายทางวิทยาศาตร์ข้อมูลที่เราจะต้องค้นหาปัจจัยสำคัญที่ส่งผลต่อ การอนุมัติสินเชื่อ แล้วกำหนดคุณลักษณะของกลุ่มเป้าหมายจากความสัมพันธ์ของปัจจัยที่สำคัญต่อตัวแปรตาม(target vaiable) จากโมเดลที่สร้างขึ้นมา"
   ]
  },
  {
   "cell_type": "markdown",
   "id": "d36be795",
   "metadata": {},
   "source": [
    "การจะทราบถึงปัจจัยที่สำคัญได้นั้นสามารถหาได้จากmodel ที่สร้างขึ้นมาได้เลย เพราะ โมเดลที่ถูกtrain จะคำนวณหาความสัมพันธ์ของปัจจัยอื่นๆต่อตัวแปรตามนั่นก็คือ การอนุมัติสินเชื่อ แล้วความสัมพันธ์ของปัจจัยไหนมีความสำคัญต่อการอนุมัติสินเชื่อสามารถดูได้จากคำสั่ง feature_importances_ ซึ่งจะแสดงค่าความสำคัญของตัวแปรออกมาอยู่ในช่วง 0 ถึง 1 ยิ่งมีค่าสูง ยิ่งมีความสำคัญ"
   ]
  },
  {
   "cell_type": "code",
   "execution_count": 34,
   "id": "5a97e088",
   "metadata": {
    "scrolled": false
   },
   "outputs": [
    {
     "name": "stdout",
     "output_type": "stream",
     "text": [
      "Dependents_3               0.011770\n",
      "Dependents_2               0.012083\n",
      "Gender_Male                0.016039\n",
      "Self_Employed_Yes          0.017206\n",
      "Property_Area_Urban        0.021522\n",
      "Dependents_1               0.021580\n",
      "Married_Yes                0.022949\n",
      "Education_Not              0.028213\n",
      "Property_Area_Semiurban    0.033370\n",
      "Loan_Amount_Term           0.054598\n",
      "CoapplicantIncome          0.108350\n",
      "ApplicantIncome            0.161247\n",
      "LoanAmount                 0.165205\n",
      "Credit_History             0.325867\n",
      "dtype: float64\n"
     ]
    }
   ],
   "source": [
    "# examine feature importance\n",
    "p_value = rf.feature_importances_\n",
    "\n",
    "#Create a series with feature importances\n",
    "featimp = pd.Series(p_value, index=numeric_col+dummy_variable[0:9]).sort_values()\n",
    "print (featimp)\n"
   ]
  },
  {
   "cell_type": "code",
   "execution_count": 35,
   "id": "f2f13c0b",
   "metadata": {},
   "outputs": [
    {
     "data": {
      "image/png": "[encoded data removed]",
      "text/plain": [
       "<Figure size 432x288 with 1 Axes>"
      ]
     },
     "metadata": {
      "needs_background": "light"
     },
     "output_type": "display_data"
    }
   ],
   "source": [
    "#bar plot feature importance\n",
    "plt.title('Feature Importances')\n",
    "plt.barh(featimp.index, featimp, color='#ffd343')\n",
    "plt.xlabel('Relative Importance')\n",
    "plt.show()"
   ]
  },
  {
   "cell_type": "markdown",
   "id": "d3e44b2e",
   "metadata": {},
   "source": [
    "เมื่อเราเลือกตัวแปรที่มีค่าความสำคัญมากกว่า0.05 พบว่ามี 5 ตัวแปรที่มีความสำคัญ คือ Credit_History, LoanAmount, ApplicantIncome, CoapplicantIncome และ Loan_Amount_Term ตามลำดับ โดยตัวแปรCredit_Historyมีค่าความสำคัญมากที่สุดถึง 0.325 และ ความสำคัญของตัวแปรจะบ่งบอกถึง ตัวแปรนั้นมีอิทธิพลต่อการอนุมัติสินเชื่อ "
   ]
  },
  {
   "cell_type": "markdown",
   "id": "1199b068",
   "metadata": {},
   "source": [
    "### แสดงความสัมพันธ์ของตัวแปรที่สำคัญต่อการอนุมัติสินเชื่อ เพื่อกำหนดคุณลักษณะของกลุ่มเป้าหมาย\n",
    "เมื่อเราทราบถึง ตัวแปรที่สำคัญแล้ว เราสามารถหาความสัมพันธ์ของตัวแปรที่สำคัญนั้นต่อการอนุมัติสินเชื่อได้ เพื่อที่จะกำหนดคุณลักษณะของกลุ่มเป้าหมายว่า กลุ่มเป้าหมายที่ขอสินเชื่อแล้วได้รับการอนุมัติมีลักษณะเป็นอย่างไร การเปลี่ยนแปลงของค่าของตัวแปรต้องเป็นไปในทิศทางไหน เพื่อที่จะทำให้มีโอกาสการอนุมัติสินเชื่อเพิ่มขึ้นได้ "
   ]
  },
  {
   "cell_type": "markdown",
   "id": "17bab913",
   "metadata": {},
   "source": [
    "โดยเราจะแสดงค่าความสัมพันธ์ในรูปของ pearson correlation แสดงถึง ค่าความสัมพันธ์ระหว่างตัวแปรหนึ่งกับตัวแปรหนึ่งอยู่ในช่วง -1 ถึง 1 โดยเครื่องหมาย(+,-)บ่งบอกถึงทิศทางของความสัมพันธ์และขนาด(ตัวเลข)บ่งบอกถึง ความสัมพันธ์ เราจะแสดงpearson coefficientผ่านเครื่องมือที่ชื่อว่า Heatmap ที่จะแสดงความสัมพันธ์ทั้งหมดระหว่างตัวแปรทุกตัวโดยการplot graph เป็นheat map ซึ่งบริเวณความสัมพันธ์ไหนมีสีอ่อน แสดงถึง ความสัมพันธ์ของตัวแปรไปในทิศทางเดียวกัน , บริเวณไหนมีสีเข้ม แสดงถึง ความสัมพันธ์ของตัวแปรไปในทิศทางตรงกันข้าม"
   ]
  },
  {
   "cell_type": "code",
   "execution_count": 47,
   "id": "1533bce2",
   "metadata": {},
   "outputs": [
    {
     "data": {
      "image/png": "[encoded data removed]",
      "text/plain": [
       "<Figure size 1080x720 with 2 Axes>"
      ]
     },
     "metadata": {},
     "output_type": "display_data"
    }
   ],
   "source": [
    "#plot head map\n",
    "import seaborn as sns\n",
    "corr_matrix = new_loan.corr()\n",
    "sns.heatmap(corr_matrix, annot=True)\n",
    "sns.set(rc={'figure.figsize':(15,8)})\n",
    "plt.show()"
   ]
  },
  {
   "cell_type": "markdown",
   "id": "f0aa0246",
   "metadata": {},
   "source": [
    "จากheatmapที่ได้ ให้เราสังเกตแถวล่างสุด คือตัวแปร Loan_Status_Y (การอนุมัติสินเชื่อ) จะแสดงค่าpearson correlation ของตัวแปรอื่นๆที่สัมพันธ์กับตัวแปรการอนุมัติสินเชื่อนี้ โดยความสัมพันธ์ของตัวแปรที่เราสนใจ คือ Credit_History, LoanAmount, ApplicantIncome, CoapplicantIncome และ Loan_Amount_Term ซึ่งเป็นตัวแปรที่มีความสำคัญต่อการอนุมัติสินเชื่อจากขั้นตอนก่อนหน้า สามารถอธิบายความสัมพันธ์ของแต่ละตัวแปรกับการอนุมัติสินเชื่อได้ดังนี้"
   ]
  },
  {
   "cell_type": "markdown",
   "id": "b3034ab7",
   "metadata": {},
   "source": [
    "* Credit_History  \n",
    "มี pearson correlation อยู่ที่ 0.54 แสดงถึง Credit_History มีความสัมพันธ์กับการอนุมัติสินเชื่อ ไปในทางเดียวกัน   \n",
    "หมายความว่า ถ้ามี Credit_Historyหรือมีประวัติเครดิตตรงตามเกณฑ์ จะทำให้มีโอกาสอนุมัติสินเชื่อได้มากขึ้น โดยมีระดับความสัมพันธ์กัน 54%\n",
    "\n",
    " \n",
    "* LoanAmount  \n",
    "มี pearson correlation อยู่ที่ -0.041 แสดงถึง LoanAmount มีความสัมพันธ์กับการอนุมัติสินเชื่อ ไปในทางตรงกันข้าม  \n",
    "หมายความว่า ถ้ามี LoanAmountหรือมีจำนวนสินเชื่อลดลง จะทำให้มีโอกาสอนุมัติสินเชื่อได้มากขึ้น โดยมีระดับความสัมพันธ์กัน 4.1%\n",
    "    \n",
    "   \n",
    "* ApplicantIncome  \n",
    "มี pearson correlation อยู่ที่ -0.014 แสดงถึง ApplicantIncome มีความสัมพันธ์กับการอนุมัติสินเชื่อ ไปในทางเดียวกัน   \n",
    "หมายความว่า ถ้ามี ApplicantIncomeหรือมีรายได้หลักต่อเดือนลดลง จะทำให้มีโอกาสอนุมัติสินเชื่อได้มากขึ้น โดยมีระดับความสัมพันธ์กัน 1.4%  \n",
    "    \n",
    "   \n",
    "* CoapplicantIncome  \n",
    "มี pearson correlation อยู่ที่ 0.012 แสดงถึง CoapplicantIncome มีความสัมพันธ์กับการอนุมัติสินเชื่อ ไปในทางเดียวกัน   \n",
    "หมายความว่า ถ้ามี CoapplicantIncome หรือมีรายได้เสริมต่อเดือนเพิ่มขึ้น จะทำให้มีโอกาสอนุมัติสินเชื่อได้มากขึ้น โดยมีระดับความสัมพันธ์กัน 1.2%   \n",
    "   \n",
    "  \n",
    "* Loan_Amount_Term\n",
    "มี pearson correlation อยู่ที่ -0.041 แสดงถึง Loan_Amount_Term มีความสัมพันธ์กับการอนุมัติสินเชื่อ ไปในทางเดียวกัน   \n",
    "หมายความว่า ถ้ามี Loan_Amount_Term หรือเวลาคืนสินเชื่อลดลง จะทำให้มีโอกาสอนุมัติสินเชื่อได้มากขึ้น โดยมีระดับความสัมพันธ์กัน 4.1% "
   ]
  },
  {
   "cell_type": "markdown",
   "id": "6802b057",
   "metadata": {},
   "source": [
    "ดังนั้น เราจึงสามารถหาคุณลักษณะของกลุ่มเป้าหมายได้แล้ว คือ เป็นกลุ่มเป้าหมายที่มีคุณลักษณะมีประวัติเครดิตตรงตามเกณฑ์ , มีจำนวนสินเชื่อลดลง, รายได้หลักต่อเดือนลดลง, มีรายได้เสริมต่อเดือนเพิ่มขึ้น และ มีการกำหนดเวลาคืนสินเชื่อลดลง ซึ่งหากอนุมัติสินเชื้อกับกลุ่มเป้าหมายที่มีคุณลักษณะตรงตามนี้ จะมีโอกาสที่กลุ่มเป้าหมายชำระสินเชื้อได้ครบและตรงตามเวลามากขึ้นได้ และ ในทางกลับกันเราก็สามารถหากลุ่มที่ควรหลีกเลี่ยงได้ คือ กลุ่มที่มีคุณลักษณะมีประวัติเครดิตไม่ตรงตามเกณฑ์ , มีจำนวนสินเชื่อเพิ่มขึ้น, รายได้หลักต่อเดือนเพิ่มขึ้น, มีรายได้เสริมต่อเดือนลดลง และ มีการกำหนดเวลาคืนสินเชื่อเพิ่มขึ้น ซึ่งถ้าหากอนุมัติสินเชื้อกับกลุ่มที่ควรหลีกเลี้ยงที่มีคุณลักษณะตรงตามนี้ จะมีโอกาสที่กลุ่มเป้าหมายชำระสินเชื้อไม่ครบและไม่ตรงตามเวลามากขึ้นได้ "
   ]
  },
  {
   "cell_type": "markdown",
   "id": "226c1944",
   "metadata": {},
   "source": [
    "หากมองในมุมมองของธุรกิจการกำหนดกลุ่มเป้าหมายในการอนุมัติสินเชื้อได้ตรงจะเป็นผลดีต่อธุรกิจธนาคารที่จะมีรายได้เพิ่มมากขึ้น และ ลดการเกิดหนี้เสียจากผู้ขอสินเชื่อที่ไม่มีความสามารถในการชำระสินเชื่อจากกลุ่มที่ควรหลีกเลี่ยงได้อีกด้วย และสุดท้ายโมเดลที่เราได้สร้างขึ้นมาก็สามารถใช้ประโยชน์ได้ในธุรกิจธนาคารที่จะช่วยตัดสินใจในการอนุมัติสินเชื่อให้กับธนาคารอย่างอัตโนมัติกับลูกค้าที่มาขอสินเชื่อได้อย่างถูกต้องและแม่นยำมากขึ้น แถมโมเดลนี้จะช่วยเพิ่มรายได้ให้กับธนาคารในการอนุมัติสินเชื้อให้ตรงกับกลุ่มเป้าหมาย และ ลดต้นทุนในการจ้างผู้เชี่ยวชาญหรือนักวิเคราะห์ในด้านสินเชื้อได้อีกด้วย"
   ]
  },
  {
   "cell_type": "markdown",
   "id": "00e2b6ab",
   "metadata": {},
   "source": [
    "## 6. การนำไปใช้จริงและสรุปผลตามเป้าหมาย"
   ]
  },
  {
   "cell_type": "markdown",
   "id": "be87489d",
   "metadata": {},
   "source": [
    "### การนำModelไปใช้จริง (หากนำไปใช้จริง)\n",
    "การจะมาถึงขั้นตอนนี้ โมเดลจะต้องผ่านการประเมินผลมาเรียบร้อยแล้วและได้โมเดลที่ดีที่สุดออกมาในที่นี้คือ  RandomForestClassifier Model แต่ยังไม่สามารถนำไปใช้งานจริงได้ เพราะ ในการทำงานจริงเราจะต้องสร้างระบบอื่นๆที่เกี่ยวข้องกับการใช้งานModelด้วย ไม่ว่าจะเป็น แหล่งข้อมูลที่ต้องนำเข้ามาในโมเดล, หน่วยประมวลผล, หน่วยแสดงผล, ที่เก็บข้อมูล เป็นต้น โดยหน้าที่หลักในการสร้างและรวมระบบเข้าด้วยกันเป็นของ Data Engineer หรืออาจจะมี Software Developer มาช่วยทำงานร่วมด้วย   \n",
    "  \n",
    "หลังจากที่สร้างระบบการใช้งานของโมเดลเรียบร้อยแล้วยังต้องผ่านการtestระบบก่อนทุกระบบ เช่น ระบบประมวลผล ระบบแสดงผล เป็นต้น รวมถึงการทดสอบModelด้วยเมื่อโมเดลทำงานเองอย่างอัตโนมัติ(Dynamic) เมื่อtestระบบสำเร็จสามารถใช้งานได้จริงและไม่เกิดปัญหาอะไรอีกในช่วงtestระบบ จึงนำระบบไปใช้จริงกับลูกค้าของธนาคารได้\n",
    "หลังจากนั้น หากนำไปใช้จริงแล้วบังเอิญเกิดปัญหา ผู้ที่ออกแบบระบบด้านนั้นๆก็ต้องมาทำการแก้ไขและติดตามอีกครั้งจนกว่าจะแก้ไขได้สำเร็จแล้วนำไปใช้จริงได้อีกครั้ง\n",
    "ดังนั้น การนำไปใช้จริงไม่ใช่แค่สร้างโมเดลเสร็จหรือสร้างระบบเสร็จแล้วจบโปรเจค แต่ต้องติดตามการนำไปใช้จริงด้วย แล้วคอยแก้ไขปัญหาที่เกิดขึ้นต่อไป\n",
    "\n",
    "ในฝั่งของData Scientist ก็ต้องติดตามการใช้งานจริงของโมเดลด้วยเช่นกัน แล้วคอยแก้ไขปัญหาที่เกิดขึ้นกับโมเดล และที่สำคัญคือ ต้องมีการอัพเดตโมเดลอยู่เรื่อยๆ อาจจะเดือนละ2ครั้ง เป็นต้น โดยนำเข้าข้อมูลใหม่ในการtrain model เพราะ พฤติกรรมต่างๆของลุกค้าอาจเปลี่ยนแปลงไปได้ตามช่วงเวลา และเพื่อทำให้โมเดลได้เรียนรู้กับข้อมูลที่มีขนาดใหญ่และใหม่มากขึ้นจะช่วยทำให้โมเดลมีการทำนายได้มีประสิทธิภาพหรือถูกต้องมากขึ้นได้ \n",
    "\n",
    "\n",
    "### สรุปผลตามเป้าหมาย\n",
    "\n",
    "#### เป้าหมายทางธุรกิจ\n",
    "1. ต้องการอนุมัติสินเชื่อให้ตรงกับกลุ่มเป้าหมายที่มีความสามารถในการจ่ายสินเชื่อ\n",
    "2. ต้องการรู้ว่ากลุ่มเป้าหมายคือใคร\n",
    "3. ต้องการสร้างแนวทางในการประเมินสินเชื่อ  \n",
    "\n",
    "#### ผลลัพธ์ที่คาดหวังทางธุรกิจ\n",
    "1. สามารถอนุมัติสินเชื่อให้ตรงกับกลุ่มเป้าหมายที่มีความสามารถในการจ่ายสินเชื่อได้\n",
    "2. ค้นพบกลุ่มเป้าหมาย เป็นกลุ่มเป้าหมายที่มีคุณลักษณะมีประวัติเครดิตตรงตามเกณฑ์ , มีจำนวนสินเชื่อลดลง, รายได้หลักต่อเดือนลดลง, มีรายได้เสริมต่อเดือนเพิ่มขึ้น และ มีการกำหนดเวลาคืนสินเชื่อลดลง \n",
    "3. สามารถสร้างแนวทางในการประเมินสินเชื่อได้ โดยใช้โมเดลในการตัดสินใจอนุมัติสินเชื่อ\n",
    "\n",
    "#### เป้าหมายทางวิทยาศาสตร์ข้อมูล\n",
    "1. สร้างโมเดลหรืออัลกอลิทึมในการอนุมัติสินเชื่อได้อย่างอัตโนมัติ\n",
    "2. ค้นหาปัจจัยสำคัญที่ส่งผลต่อการอนุมัติสินเชื่อ เพื่อหาคุณลักษณะที่สำคัญของกลุ่มเป้าหมาย\n",
    "\n",
    "#### ผลลัพธ์ทางวิทยาศาตร์ข้อมูล\n",
    "1. สร้างโมเดลที่ดีที่สุด คือ RandomForestClassifier Model ที่ใช้อนุมัติสินเชื่อได้อย่างอัตโนมัติ โดยมีค่าความถูกต้องอยู่ที่ 82.2%\n",
    "2. พบปัจจัยที่สำคัญที่ส่งผลต่อการอนุมัติสินเชื่อ คือ Credit_History, LoanAmount, ApplicantIncome, CoapplicantIncome และ Loan_Amount_Term และค้นพบคุณลักษณะของกลุ่มเป้าหมาย คือ มีประวัติเครดิตตรงตามเกณฑ์ , มีจำนวนสินเชื่อลดลง, รายได้หลักต่อเดือนลดลง, มีรายได้เสริมต่อเดือนเพิ่มขึ้น และ มีการกำหนดเวลาคืนสินเชื่อลดลง "
   ]
  }
 ],
 "metadata": {
  "kernelspec": {
   "display_name": "Python 3",
   "language": "python",
   "name": "python3"
  },
  "language_info": {
   "codemirror_mode": {
    "name": "ipython",
    "version": 3
   },
   "file_extension": ".py",
   "mimetype": "text/x-python",
   "name": "python",
   "nbconvert_exporter": "python",
   "pygments_lexer": "ipython3",
   "version": "3.8.8"
  }
 },
 "nbformat": 4,
 "nbformat_minor": 5
}
